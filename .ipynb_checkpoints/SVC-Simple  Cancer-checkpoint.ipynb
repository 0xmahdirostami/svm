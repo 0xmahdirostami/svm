{
 "cells": [
  {
   "cell_type": "markdown",
   "metadata": {
    "id": "uxW3OL5Ax0vD"
   },
   "source": [
    "Loading the data"
   ]
  },
  {
   "cell_type": "code",
   "execution_count": 7,
   "metadata": {
    "colab": {
     "base_uri": "https://localhost:8080/"
    },
    "executionInfo": {
     "elapsed": 21,
     "status": "ok",
     "timestamp": 1650788772796,
     "user": {
      "displayName": "Alireza Afzal Aghaei",
      "userId": "09957512466846387524"
     },
     "user_tz": -270
    },
    "id": "MTznFAIEm4nQ",
    "outputId": "0017b5b4-bdeb-42be-9042-fb197b3360c2"
   },
   "outputs": [
    {
     "name": "stdout",
     "output_type": "stream",
     "text": [
      "1. Title: Wisconsin Diagnostic Breast Cancer (WDBC)\n",
      "\n",
      "2. Source Information\n",
      "\n",
      "a) Creators: \n",
      "\n",
      "\tDr. William H. Wolberg, General Surgery Dept., University of\n",
      "\tWisconsin,  Clinical Sciences Center, Madison, WI 53792\n",
      "\twolberg@eagle.surgery.wisc.edu\n",
      "\n",
      "\tW. Nick Street, Computer Sciences Dept., University of\n",
      "\tWisconsin, 1210 West Dayton St., Madison, WI 53706\n",
      "\tstreet@cs.wisc.edu  608-262-6619\n",
      "\n",
      "\tOlvi L. Mangasarian, Computer Sciences Dept., University of\n",
      "\tWisconsin, 1210 West Dayton St., Madison, WI 53706\n",
      "\tolvi@cs.wisc.edu \n",
      "\n",
      "b) Donor: Nick Street\n",
      "\n",
      "c) Date: November 1995\n",
      "\n",
      "3. Past Usage:\n",
      "\n",
      "first usage:\n",
      "\n",
      "\tW.N. Street, W.H. Wolberg and O.L. Mangasarian \n",
      "\tNuclear feature extraction for breast tumor diagnosis.\n",
      "\tIS&T/SPIE 1993 International Symposium on Electronic Imaging: Science\n",
      "\tand Technology, volume 1905, pages 861-870, San Jose, CA, 1993.\n",
      "\n",
      "OR literature:\n",
      "\n",
      "\tO.L. Mangasarian, W.N. Street and W.H. Wolberg. \n",
      "\tBreast cancer diagnosis and prognosis via linear programming. \n",
      "\tOperations Research, 43(4), pages 570-577, July-August 1995.\n",
      "\n",
      "Medical literature:\n",
      "\n",
      "\tW.H. Wolberg, W.N. Street, and O.L. Mangasarian. \n",
      "\tMachine learning techniques to diagnose breast cancer from\n",
      "\tfine-needle aspirates.  \n",
      "\tCancer Letters 77 (1994) 163-171.\n",
      "\n",
      "\tW.H. Wolberg, W.N. Street, and O.L. Mangasarian. \n",
      "\tImage analysis and machine learning applied to breast cancer\n",
      "\tdiagnosis and prognosis.  \n",
      "\tAnalytical and Quantitative Cytology and Histology, Vol. 17\n",
      "\tNo. 2, pages 77-87, April 1995. \n",
      "\n",
      "\tW.H. Wolberg, W.N. Street, D.M. Heisey, and O.L. Mangasarian. \n",
      "\tComputerized breast cancer diagnosis and prognosis from fine\n",
      "\tneedle aspirates.  \n",
      "\tArchives of Surgery 1995;130:511-516.\n",
      "\n",
      "\tW.H. Wolberg, W.N. Street, D.M. Heisey, and O.L. Mangasarian. \n",
      "\tComputer-derived nuclear features distinguish malignant from\n",
      "\tbenign breast cytology.  \n",
      "\tHuman Pathology, 26:792--796, 1995.\n",
      "\n",
      "See also:\n",
      "\thttp://www.cs.wisc.edu/~olvi/uwmp/mpml.html\n",
      "\thttp://www.cs.wisc.edu/~olvi/uwmp/cancer.html\n",
      "\n",
      "Results:\n",
      "\n",
      "\t- predicting field 2, diagnosis: B = benign, M = malignant\n",
      "\t- sets are linearly separable using all 30 input features\n",
      "\t- best predictive accuracy obtained using one separating plane\n",
      "\t\tin the 3-D space of Worst Area, Worst Smoothness and\n",
      "\t\tMean Texture.  Estimated accuracy 97.5% using repeated\n",
      "\t\t10-fold crossvalidations.  Classifier has correctly\n",
      "\t\tdiagnosed 176 consecutive new patients as of November\n",
      "\t\t1995. \n",
      "\n",
      "4. Relevant information\n",
      "\n",
      "\tFeatures are computed from a digitized image of a fine needle\n",
      "\taspirate (FNA) of a breast mass.  They describe\n",
      "\tcharacteristics of the cell nuclei present in the image.\n",
      "\tA few of the images can be found at\n",
      "\thttp://www.cs.wisc.edu/~street/images/\n",
      "\n",
      "\tSeparating plane described above was obtained using\n",
      "\tMultisurface Method-Tree (MSM-T) [K. P. Bennett, \"Decision Tree\n",
      "\tConstruction Via Linear Programming.\" Proceedings of the 4th\n",
      "\tMidwest Artificial Intelligence and Cognitive Science Society,\n",
      "\tpp. 97-101, 1992], a classification method which uses linear\n",
      "\tprogramming to construct a decision tree.  Relevant features\n",
      "\twere selected using an exhaustive search in the space of 1-4\n",
      "\tfeatures and 1-3 separating planes.\n",
      "\n",
      "\tThe actual linear program used to obtain the separating plane\n",
      "\tin the 3-dimensional space is that described in:\n",
      "\t[K. P. Bennett and O. L. Mangasarian: \"Robust Linear\n",
      "\tProgramming Discrimination of Two Linearly Inseparable Sets\",\n",
      "\tOptimization Methods and Software 1, 1992, 23-34].\n",
      "\n",
      "\n",
      "\tThis database is also available through the UW CS ftp server:\n",
      "\n",
      "\tftp ftp.cs.wisc.edu\n",
      "\tcd math-prog/cpo-dataset/machine-learn/WDBC/\n",
      "\n",
      "5. Number of instances: 569 \n",
      "\n",
      "6. Number of attributes: 32 (ID, diagnosis, 30 real-valued input features)\n",
      "\n",
      "7. Attribute information\n",
      "\n",
      "1) ID number\n",
      "2) Diagnosis (M = malignant, B = benign)\n",
      "3-32)\n",
      "\n",
      "Ten real-valued features are computed for each cell nucleus:\n",
      "\n",
      "\ta) radius (mean of distances from center to points on the perimeter)\n",
      "\tb) texture (standard deviation of gray-scale values)\n",
      "\tc) perimeter\n",
      "\td) area\n",
      "\te) smoothness (local variation in radius lengths)\n",
      "\tf) compactness (perimeter^2 / area - 1.0)\n",
      "\tg) concavity (severity of concave portions of the contour)\n",
      "\th) concave points (number of concave portions of the contour)\n",
      "\ti) symmetry \n",
      "\tj) fractal dimension (\"coastline approximation\" - 1)\n",
      "\n",
      "Several of the papers listed above contain detailed descriptions of\n",
      "how these features are computed. \n",
      "\n",
      "The mean, standard error, and \"worst\" or largest (mean of the three\n",
      "largest values) of these features were computed for each image,\n",
      "resulting in 30 features.  For instance, field 3 is Mean Radius, field\n",
      "13 is Radius SE, field 23 is Worst Radius.\n",
      "\n",
      "All feature values are recoded with four significant digits.\n",
      "\n",
      "8. Missing attribute values: none\n",
      "\n",
      "9. Class distribution: 357 benign, 212 malignant"
     ]
    }
   ],
   "source": [
    "!wget -q https://archive.ics.uci.edu/ml/machine-learning-databases/breast-cancer-wisconsin/wdbc.names\n",
    "\n",
    "!cat wdbc.names"
   ]
  },
  {
   "cell_type": "markdown",
   "metadata": {
    "id": "cfiJP5uExxRw"
   },
   "source": [
    "Importing necessary packages."
   ]
  },
  {
   "cell_type": "code",
   "execution_count": 6,
   "metadata": {
    "executionInfo": {
     "elapsed": 1490,
     "status": "ok",
     "timestamp": 1650964466181,
     "user": {
      "displayName": "Mahdi Rostami",
      "userId": "07920215040166358053"
     },
     "user_tz": -270
    },
    "id": "JmYf_mAtBnWe"
   },
   "outputs": [],
   "source": [
    "import numpy as np\n",
    "import pandas as pd\n",
    "from sklearn.svm import SVC\n",
    "from sklearn.pipeline import make_pipeline\n",
    "from sklearn.datasets import load_breast_cancer\n",
    "from sklearn.preprocessing import StandardScaler\n",
    "from sklearn.model_selection import GridSearchCV, train_test_split\n",
    "from sklearn.metrics import classification_report, confusion_matrix, ConfusionMatrixDisplay"
   ]
  },
  {
   "cell_type": "code",
   "execution_count": 9,
   "metadata": {
    "colab": {
     "base_uri": "https://localhost:8080/"
    },
    "executionInfo": {
     "elapsed": 14,
     "status": "ok",
     "timestamp": 1650788772797,
     "user": {
      "displayName": "Alireza Afzal Aghaei",
      "userId": "09957512466846387524"
     },
     "user_tz": -270
    },
    "id": "u19F7_oIB-tI",
    "outputId": "324dec3e-d27c-4b80-be33-1f29d0dc1c5a"
   },
   "outputs": [],
   "source": [
    "data = load_breast_cancer()"
   ]
  },
  {
   "cell_type": "code",
   "execution_count": 14,
   "metadata": {
    "colab": {
     "base_uri": "https://localhost:8080/"
    },
    "executionInfo": {
     "elapsed": 14,
     "status": "ok",
     "timestamp": 1650788772797,
     "user": {
      "displayName": "Alireza Afzal Aghaei",
      "userId": "09957512466846387524"
     },
     "user_tz": -270
    },
    "id": "u19F7_oIB-tI",
    "outputId": "324dec3e-d27c-4b80-be33-1f29d0dc1c5a"
   },
   "outputs": [
    {
     "data": {
      "text/plain": [
       "((569, 30), (569,))"
      ]
     },
     "execution_count": 14,
     "metadata": {},
     "output_type": "execute_result"
    }
   ],
   "source": [
    "X = data.data\n",
    "y = data.target\n",
    "X.shape, y.shape"
   ]
  },
  {
   "cell_type": "code",
   "execution_count": 15,
   "metadata": {
    "colab": {
     "base_uri": "https://localhost:8080/"
    },
    "executionInfo": {
     "elapsed": 9,
     "status": "ok",
     "timestamp": 1650788772797,
     "user": {
      "displayName": "Alireza Afzal Aghaei",
      "userId": "09957512466846387524"
     },
     "user_tz": -270
    },
    "id": "eFySZHCdC_OO",
    "outputId": "dcb6b321-4fff-4be8-e225-f40e1a750ad8"
   },
   "outputs": [
    {
     "name": "stdout",
     "output_type": "stream",
     "text": [
      "Number of instances in each class: 357 212\n"
     ]
    }
   ],
   "source": [
    "print('Number of instances in each class:', y.sum(), (1 - y).sum())"
   ]
  },
  {
   "cell_type": "code",
   "execution_count": 16,
   "metadata": {
    "colab": {
     "base_uri": "https://localhost:8080/",
     "height": 517
    },
    "executionInfo": {
     "elapsed": 398,
     "status": "ok",
     "timestamp": 1650788773189,
     "user": {
      "displayName": "Alireza Afzal Aghaei",
      "userId": "09957512466846387524"
     },
     "user_tz": -270
    },
    "id": "OurD5tidv3pa",
    "outputId": "cb35d656-988d-4989-ff96-fa7845d552fc"
   },
   "outputs": [],
   "source": [
    "df = pd.DataFrame(np.hstack([X, y.reshape(-1, 1)]),columns=data.feature_names.tolist() + ['Class'])\n",
    "df['Class'].replace(dict(enumerate(data.target_names)), inplace=True)"
   ]
  },
  {
   "cell_type": "code",
   "execution_count": 19,
   "metadata": {
    "colab": {
     "base_uri": "https://localhost:8080/",
     "height": 517
    },
    "executionInfo": {
     "elapsed": 398,
     "status": "ok",
     "timestamp": 1650788773189,
     "user": {
      "displayName": "Alireza Afzal Aghaei",
      "userId": "09957512466846387524"
     },
     "user_tz": -270
    },
    "id": "OurD5tidv3pa",
    "outputId": "cb35d656-988d-4989-ff96-fa7845d552fc"
   },
   "outputs": [
    {
     "data": {
      "text/html": [
       "<div>\n",
       "<style scoped>\n",
       "    .dataframe tbody tr th:only-of-type {\n",
       "        vertical-align: middle;\n",
       "    }\n",
       "\n",
       "    .dataframe tbody tr th {\n",
       "        vertical-align: top;\n",
       "    }\n",
       "\n",
       "    .dataframe thead th {\n",
       "        text-align: right;\n",
       "    }\n",
       "</style>\n",
       "<table border=\"1\" class=\"dataframe\">\n",
       "  <thead>\n",
       "    <tr style=\"text-align: right;\">\n",
       "      <th></th>\n",
       "      <th>mean radius</th>\n",
       "      <th>mean texture</th>\n",
       "      <th>mean perimeter</th>\n",
       "      <th>mean area</th>\n",
       "      <th>mean smoothness</th>\n",
       "      <th>mean compactness</th>\n",
       "      <th>mean concavity</th>\n",
       "      <th>mean concave points</th>\n",
       "      <th>mean symmetry</th>\n",
       "      <th>mean fractal dimension</th>\n",
       "      <th>...</th>\n",
       "      <th>worst texture</th>\n",
       "      <th>worst perimeter</th>\n",
       "      <th>worst area</th>\n",
       "      <th>worst smoothness</th>\n",
       "      <th>worst compactness</th>\n",
       "      <th>worst concavity</th>\n",
       "      <th>worst concave points</th>\n",
       "      <th>worst symmetry</th>\n",
       "      <th>worst fractal dimension</th>\n",
       "      <th>Class</th>\n",
       "    </tr>\n",
       "  </thead>\n",
       "  <tbody>\n",
       "    <tr>\n",
       "      <th>212</th>\n",
       "      <td>28.11</td>\n",
       "      <td>18.47</td>\n",
       "      <td>188.50</td>\n",
       "      <td>2499.0</td>\n",
       "      <td>0.11420</td>\n",
       "      <td>0.15160</td>\n",
       "      <td>0.32010</td>\n",
       "      <td>0.15950</td>\n",
       "      <td>0.1648</td>\n",
       "      <td>0.05525</td>\n",
       "      <td>...</td>\n",
       "      <td>18.47</td>\n",
       "      <td>188.50</td>\n",
       "      <td>2499.0</td>\n",
       "      <td>0.11420</td>\n",
       "      <td>0.15160</td>\n",
       "      <td>0.3201</td>\n",
       "      <td>0.1595</td>\n",
       "      <td>0.1648</td>\n",
       "      <td>0.05525</td>\n",
       "      <td>malignant</td>\n",
       "    </tr>\n",
       "    <tr>\n",
       "      <th>473</th>\n",
       "      <td>12.27</td>\n",
       "      <td>29.97</td>\n",
       "      <td>77.42</td>\n",
       "      <td>465.4</td>\n",
       "      <td>0.07699</td>\n",
       "      <td>0.03398</td>\n",
       "      <td>0.00000</td>\n",
       "      <td>0.00000</td>\n",
       "      <td>0.1701</td>\n",
       "      <td>0.05960</td>\n",
       "      <td>...</td>\n",
       "      <td>38.05</td>\n",
       "      <td>85.08</td>\n",
       "      <td>558.9</td>\n",
       "      <td>0.09422</td>\n",
       "      <td>0.05213</td>\n",
       "      <td>0.0000</td>\n",
       "      <td>0.0000</td>\n",
       "      <td>0.2409</td>\n",
       "      <td>0.06743</td>\n",
       "      <td>benign</td>\n",
       "    </tr>\n",
       "    <tr>\n",
       "      <th>560</th>\n",
       "      <td>14.05</td>\n",
       "      <td>27.15</td>\n",
       "      <td>91.38</td>\n",
       "      <td>600.4</td>\n",
       "      <td>0.09929</td>\n",
       "      <td>0.11260</td>\n",
       "      <td>0.04462</td>\n",
       "      <td>0.04304</td>\n",
       "      <td>0.1537</td>\n",
       "      <td>0.06171</td>\n",
       "      <td>...</td>\n",
       "      <td>33.17</td>\n",
       "      <td>100.20</td>\n",
       "      <td>706.7</td>\n",
       "      <td>0.12410</td>\n",
       "      <td>0.22640</td>\n",
       "      <td>0.1326</td>\n",
       "      <td>0.1048</td>\n",
       "      <td>0.2250</td>\n",
       "      <td>0.08321</td>\n",
       "      <td>benign</td>\n",
       "    </tr>\n",
       "  </tbody>\n",
       "</table>\n",
       "<p>3 rows × 31 columns</p>\n",
       "</div>"
      ],
      "text/plain": [
       "     mean radius  mean texture  mean perimeter  mean area  mean smoothness  \\\n",
       "212        28.11         18.47          188.50     2499.0          0.11420   \n",
       "473        12.27         29.97           77.42      465.4          0.07699   \n",
       "560        14.05         27.15           91.38      600.4          0.09929   \n",
       "\n",
       "     mean compactness  mean concavity  mean concave points  mean symmetry  \\\n",
       "212           0.15160         0.32010              0.15950         0.1648   \n",
       "473           0.03398         0.00000              0.00000         0.1701   \n",
       "560           0.11260         0.04462              0.04304         0.1537   \n",
       "\n",
       "     mean fractal dimension  ...  worst texture  worst perimeter  worst area  \\\n",
       "212                 0.05525  ...          18.47           188.50      2499.0   \n",
       "473                 0.05960  ...          38.05            85.08       558.9   \n",
       "560                 0.06171  ...          33.17           100.20       706.7   \n",
       "\n",
       "     worst smoothness  worst compactness  worst concavity  \\\n",
       "212           0.11420            0.15160           0.3201   \n",
       "473           0.09422            0.05213           0.0000   \n",
       "560           0.12410            0.22640           0.1326   \n",
       "\n",
       "     worst concave points  worst symmetry  worst fractal dimension      Class  \n",
       "212                0.1595          0.1648                  0.05525  malignant  \n",
       "473                0.0000          0.2409                  0.06743     benign  \n",
       "560                0.1048          0.2250                  0.08321     benign  \n",
       "\n",
       "[3 rows x 31 columns]"
      ]
     },
     "execution_count": 19,
     "metadata": {},
     "output_type": "execute_result"
    }
   ],
   "source": [
    "df.sample(3)"
   ]
  },
  {
   "cell_type": "code",
   "execution_count": 20,
   "metadata": {},
   "outputs": [
    {
     "name": "stdout",
     "output_type": "stream",
     "text": [
      "<class 'pandas.core.frame.DataFrame'>\n",
      "RangeIndex: 569 entries, 0 to 568\n",
      "Data columns (total 31 columns):\n",
      " #   Column                   Non-Null Count  Dtype  \n",
      "---  ------                   --------------  -----  \n",
      " 0   mean radius              569 non-null    float64\n",
      " 1   mean texture             569 non-null    float64\n",
      " 2   mean perimeter           569 non-null    float64\n",
      " 3   mean area                569 non-null    float64\n",
      " 4   mean smoothness          569 non-null    float64\n",
      " 5   mean compactness         569 non-null    float64\n",
      " 6   mean concavity           569 non-null    float64\n",
      " 7   mean concave points      569 non-null    float64\n",
      " 8   mean symmetry            569 non-null    float64\n",
      " 9   mean fractal dimension   569 non-null    float64\n",
      " 10  radius error             569 non-null    float64\n",
      " 11  texture error            569 non-null    float64\n",
      " 12  perimeter error          569 non-null    float64\n",
      " 13  area error               569 non-null    float64\n",
      " 14  smoothness error         569 non-null    float64\n",
      " 15  compactness error        569 non-null    float64\n",
      " 16  concavity error          569 non-null    float64\n",
      " 17  concave points error     569 non-null    float64\n",
      " 18  symmetry error           569 non-null    float64\n",
      " 19  fractal dimension error  569 non-null    float64\n",
      " 20  worst radius             569 non-null    float64\n",
      " 21  worst texture            569 non-null    float64\n",
      " 22  worst perimeter          569 non-null    float64\n",
      " 23  worst area               569 non-null    float64\n",
      " 24  worst smoothness         569 non-null    float64\n",
      " 25  worst compactness        569 non-null    float64\n",
      " 26  worst concavity          569 non-null    float64\n",
      " 27  worst concave points     569 non-null    float64\n",
      " 28  worst symmetry           569 non-null    float64\n",
      " 29  worst fractal dimension  569 non-null    float64\n",
      " 30  Class                    569 non-null    object \n",
      "dtypes: float64(30), object(1)\n",
      "memory usage: 137.9+ KB\n"
     ]
    }
   ],
   "source": [
    "df.info()"
   ]
  },
  {
   "cell_type": "markdown",
   "metadata": {
    "id": "5uybsMbXx33G"
   },
   "source": [
    "Split the data into train and test chunks"
   ]
  },
  {
   "cell_type": "code",
   "execution_count": 38,
   "metadata": {
    "colab": {
     "base_uri": "https://localhost:8080/"
    },
    "executionInfo": {
     "elapsed": 31,
     "status": "ok",
     "timestamp": 1650788773190,
     "user": {
      "displayName": "Alireza Afzal Aghaei",
      "userId": "09957512466846387524"
     },
     "user_tz": -270
    },
    "id": "Jgiq36lvCNV5",
    "outputId": "aeb13a98-cb97-4747-d01e-ec5e7563157c"
   },
   "outputs": [
    {
     "data": {
      "text/plain": [
       "((398, 30), (171, 30))"
      ]
     },
     "execution_count": 38,
     "metadata": {},
     "output_type": "execute_result"
    }
   ],
   "source": [
    "X_train, X_test, y_train, y_test = train_test_split(X, y, test_size = 0.3, random_state=0)\n",
    "X_train.shape, X_test.shape"
   ]
  },
  {
   "cell_type": "markdown",
   "metadata": {
    "id": "tVugtbWUx73-"
   },
   "source": [
    "train (fit) and SVC model (**Support Vector Classification**)"
   ]
  },
  {
   "cell_type": "code",
   "execution_count": 52,
   "metadata": {
    "colab": {
     "base_uri": "https://localhost:8080/"
    },
    "executionInfo": {
     "elapsed": 29,
     "status": "ok",
     "timestamp": 1650788773191,
     "user": {
      "displayName": "Alireza Afzal Aghaei",
      "userId": "09957512466846387524"
     },
     "user_tz": -270
    },
    "id": "WyVGXIdoxocF",
    "outputId": "89ac282b-0956-42d1-85fc-c4daad96412c"
   },
   "outputs": [
    {
     "data": {
      "text/plain": [
       "SVC(C=1)"
      ]
     },
     "execution_count": 52,
     "metadata": {},
     "output_type": "execute_result"
    }
   ],
   "source": [
    "clf = SVC(C = 1)\n",
    "clf.fit(X_train, y_train)"
   ]
  },
  {
   "cell_type": "markdown",
   "metadata": {
    "id": "DCNyaGhOyJoe"
   },
   "source": [
    "Predict the test data and calculate the binary classification metrics"
   ]
  },
  {
   "cell_type": "code",
   "execution_count": 53,
   "metadata": {
    "colab": {
     "base_uri": "https://localhost:8080/",
     "height": 297
    },
    "executionInfo": {
     "elapsed": 27,
     "status": "ok",
     "timestamp": 1650788773192,
     "user": {
      "displayName": "Alireza Afzal Aghaei",
      "userId": "09957512466846387524"
     },
     "user_tz": -270
    },
    "id": "0DXrD1NZxoUj",
    "outputId": "9209e012-8601-4fd3-95f7-f995db905869"
   },
   "outputs": [
    {
     "data": {
      "text/plain": [
       "<sklearn.metrics._plot.confusion_matrix.ConfusionMatrixDisplay at 0x7f186826c340>"
      ]
     },
     "execution_count": 53,
     "metadata": {},
     "output_type": "execute_result"
    },
    {
     "data": {
      "image/png": "[encoded data removed]",
      "text/plain": [
       "<Figure size 432x288 with 2 Axes>"
      ]
     },
     "metadata": {
      "needs_background": "light"
     },
     "output_type": "display_data"
    }
   ],
   "source": [
    "y_pred = clf.predict(X_test)\n",
    "ConfusionMatrixDisplay.from_predictions(y_test, y_pred, labels=range(len(data.target_names)), display_labels=data.target_names)"
   ]
  },
  {
   "cell_type": "code",
   "execution_count": 54,
   "metadata": {
    "colab": {
     "base_uri": "https://localhost:8080/"
    },
    "executionInfo": {
     "elapsed": 24,
     "status": "ok",
     "timestamp": 1650788773193,
     "user": {
      "displayName": "Alireza Afzal Aghaei",
      "userId": "09957512466846387524"
     },
     "user_tz": -270
    },
    "id": "zCI9lsKk019g",
    "outputId": "5878445d-d4a6-47d2-d61a-08906d3d6f2d"
   },
   "outputs": [
    {
     "name": "stdout",
     "output_type": "stream",
     "text": [
      "              precision    recall  f1-score   support\n",
      "\n",
      "   malignant       0.98      0.81      0.89        63\n",
      "      benign       0.90      0.99      0.94       108\n",
      "\n",
      "    accuracy                           0.92       171\n",
      "   macro avg       0.94      0.90      0.91       171\n",
      "weighted avg       0.93      0.92      0.92       171\n",
      "\n"
     ]
    }
   ],
   "source": [
    "print(classification_report(y_test, y_pred, labels=range(len(data.target_names)), target_names=data.target_names))"
   ]
  },
  {
   "cell_type": "code",
   "execution_count": 55,
   "metadata": {
    "colab": {
     "base_uri": "https://localhost:8080/"
    },
    "executionInfo": {
     "elapsed": 24,
     "status": "ok",
     "timestamp": 1650788773195,
     "user": {
      "displayName": "Alireza Afzal Aghaei",
      "userId": "09957512466846387524"
     },
     "user_tz": -270
    },
    "id": "O8nPCVlo6JEZ",
    "outputId": "1fc69e3b-8964-4214-a8de-cdba49476781"
   },
   "outputs": [
    {
     "name": "stdout",
     "output_type": "stream",
     "text": [
      "total number of support vectors: 114\n",
      "number of support vectors for each class [59, 55]\n"
     ]
    }
   ],
   "source": [
    "print('total number of support vectors:', clf.n_support_.sum())\n",
    "print('number of support vectors for each class', clf.n_support_.tolist())"
   ]
  },
  {
   "cell_type": "code",
   "execution_count": 56,
   "metadata": {
    "colab": {
     "base_uri": "https://localhost:8080/"
    },
    "executionInfo": {
     "elapsed": 22,
     "status": "ok",
     "timestamp": 1650788773196,
     "user": {
      "displayName": "Alireza Afzal Aghaei",
      "userId": "09957512466846387524"
     },
     "user_tz": -270
    },
    "id": "5pAt900623gY",
    "outputId": "0a7af009-0ea3-4899-c826-9ff8b3d3ed93"
   },
   "outputs": [
    {
     "name": "stdout",
     "output_type": "stream",
     "text": [
      "Alphas: [[-1.    -1.    -1.    -1.    -1.    -1.    -1.    -1.    -1.    -1.\n",
      "  -1.    -1.    -1.    -1.    -1.    -1.    -1.    -1.    -1.    -1.\n",
      "  -1.    -1.    -1.    -1.    -0.083 -1.    -1.    -1.    -1.    -1.\n",
      "  -1.    -1.    -1.    -1.    -1.    -1.    -1.    -1.    -1.    -1.\n",
      "  -1.    -1.    -1.    -1.    -1.    -0.28  -1.    -0.042 -0.174 -1.\n",
      "  -1.    -1.    -1.    -1.    -1.    -0.019 -1.    -1.    -1.     1.\n",
      "   1.     1.     1.     1.     1.     1.     1.     1.     1.     1.\n",
      "   1.     1.     1.     1.     1.     1.     1.     1.     1.     1.\n",
      "   1.     1.     1.     1.     1.     1.     1.     1.     1.     1.\n",
      "   1.     1.     0.597  1.     1.     1.     1.     1.     1.     1.\n",
      "   1.     1.     1.     1.     1.     1.     1.     1.     1.     1.\n",
      "   1.     1.     1.     1.   ]]\n"
     ]
    }
   ],
   "source": [
    "print('Alphas:', clf.dual_coef_.round(3))"
   ]
  },
  {
   "cell_type": "markdown",
   "metadata": {
    "id": "gYqU3gPkyR1R"
   },
   "source": [
    "The same process after normalizing the data"
   ]
  },
  {
   "cell_type": "code",
   "execution_count": 59,
   "metadata": {},
   "outputs": [
    {
     "data": {
      "text/plain": [
       "'bias: [-0.68142162]'"
      ]
     },
     "execution_count": 59,
     "metadata": {},
     "output_type": "execute_result"
    }
   ],
   "source": [
    "f\"bias: {clf.intercept_}\""
   ]
  },
  {
   "cell_type": "code",
   "execution_count": 60,
   "metadata": {
    "colab": {
     "base_uri": "https://localhost:8080/",
     "height": 297
    },
    "executionInfo": {
     "elapsed": 498,
     "status": "ok",
     "timestamp": 1650788773674,
     "user": {
      "displayName": "Alireza Afzal Aghaei",
      "userId": "09957512466846387524"
     },
     "user_tz": -270
    },
    "id": "aIiTYau0FazC",
    "outputId": "b156981f-814f-4697-9c5f-c51efce5cb07"
   },
   "outputs": [
    {
     "data": {
      "text/plain": [
       "<sklearn.metrics._plot.confusion_matrix.ConfusionMatrixDisplay at 0x7f1868709d90>"
      ]
     },
     "execution_count": 60,
     "metadata": {},
     "output_type": "execute_result"
    },
    {
     "data": {
      "image/png": "[encoded data removed]",
      "text/plain": [
       "<Figure size 432x288 with 2 Axes>"
      ]
     },
     "metadata": {
      "needs_background": "light"
     },
     "output_type": "display_data"
    }
   ],
   "source": [
    "clf = make_pipeline(StandardScaler(), SVC(C = 1))\n",
    "clf.fit(X_train, y_train)\n",
    "y_pred = clf.predict(X_test)\n",
    "\n",
    "ConfusionMatrixDisplay.from_predictions(y_test, y_pred, labels=range(len(data.target_names)), display_labels=data.target_names)\n"
   ]
  },
  {
   "cell_type": "code",
   "execution_count": 61,
   "metadata": {
    "colab": {
     "base_uri": "https://localhost:8080/"
    },
    "executionInfo": {
     "elapsed": 51,
     "status": "ok",
     "timestamp": 1650788773676,
     "user": {
      "displayName": "Alireza Afzal Aghaei",
      "userId": "09957512466846387524"
     },
     "user_tz": -270
    },
    "id": "KN3yA8HFGB5J",
    "outputId": "2479b791-8377-4672-ad90-d32c7ba238a9"
   },
   "outputs": [
    {
     "name": "stdout",
     "output_type": "stream",
     "text": [
      "              precision    recall  f1-score   support\n",
      "\n",
      "   malignant       0.98      0.95      0.97        63\n",
      "      benign       0.97      0.99      0.98       108\n",
      "\n",
      "    accuracy                           0.98       171\n",
      "   macro avg       0.98      0.97      0.97       171\n",
      "weighted avg       0.98      0.98      0.98       171\n",
      "\n"
     ]
    }
   ],
   "source": [
    "print(classification_report(y_test, y_pred, labels=range(len(data.target_names)), target_names=data.target_names))"
   ]
  },
  {
   "cell_type": "code",
   "execution_count": 62,
   "metadata": {
    "colab": {
     "base_uri": "https://localhost:8080/"
    },
    "executionInfo": {
     "elapsed": 41,
     "status": "ok",
     "timestamp": 1650788773677,
     "user": {
      "displayName": "Alireza Afzal Aghaei",
      "userId": "09957512466846387524"
     },
     "user_tz": -270
    },
    "id": "xCC4cZHwGxZr",
    "outputId": "2fa30a81-99f5-401d-93bd-0e238b2b40ec"
   },
   "outputs": [
    {
     "name": "stdout",
     "output_type": "stream",
     "text": [
      "total number of support vectors: 94\n",
      "number of support vectors for each class [49, 45]\n"
     ]
    }
   ],
   "source": [
    "print('total number of support vectors:', clf.steps[1][1].n_support_.sum())\n",
    "print('number of support vectors for each class', clf.steps[1][1].n_support_.tolist())"
   ]
  },
  {
   "cell_type": "code",
   "execution_count": 63,
   "metadata": {
    "colab": {
     "base_uri": "https://localhost:8080/"
    },
    "executionInfo": {
     "elapsed": 37,
     "status": "ok",
     "timestamp": 1650788773678,
     "user": {
      "displayName": "Alireza Afzal Aghaei",
      "userId": "09957512466846387524"
     },
     "user_tz": -270
    },
    "id": "OsSwDiO48Zie",
    "outputId": "08fb01a7-6afc-484b-fa4b-a959b8781f36"
   },
   "outputs": [
    {
     "name": "stdout",
     "output_type": "stream",
     "text": [
      "Alphas: [[-1.    -1.    -1.    -1.    -1.    -0.259 -0.5   -0.728 -1.    -0.755\n",
      "  -0.223 -1.    -0.021 -0.717 -1.    -1.    -1.    -1.    -1.    -1.\n",
      "  -0.208 -0.743 -1.    -1.    -1.    -0.28  -0.299 -0.669 -1.    -0.393\n",
      "  -1.    -1.    -1.    -0.58  -0.27  -0.736 -0.86  -0.208 -1.    -0.222\n",
      "  -0.065 -0.27  -0.152 -0.499 -1.    -0.289 -1.    -1.    -0.656  0.728\n",
      "   1.     0.842  0.195  0.158  0.783  1.     1.     1.     0.469  0.091\n",
      "   1.     0.537  1.     0.862  0.94   1.     1.     1.     0.5    0.516\n",
      "   1.     0.576  0.891  0.836  1.     0.31   1.     1.     0.515  0.585\n",
      "   0.453  1.     0.418  1.     1.     0.698  0.77   1.     0.284  1.\n",
      "   1.     0.799  1.     0.843]]\n"
     ]
    }
   ],
   "source": [
    "print('Alphas:', clf.steps[1][1].dual_coef_.round(3))"
   ]
  },
  {
   "cell_type": "markdown",
   "metadata": {
    "id": "2__eeUkO9APP"
   },
   "source": [
    "Trying different values of C"
   ]
  },
  {
   "cell_type": "code",
   "execution_count": 64,
   "metadata": {
    "colab": {
     "base_uri": "https://localhost:8080/"
    },
    "executionInfo": {
     "elapsed": 34,
     "status": "ok",
     "timestamp": 1650788773680,
     "user": {
      "displayName": "Alireza Afzal Aghaei",
      "userId": "09957512466846387524"
     },
     "user_tz": -270
    },
    "id": "VKP1LBhN9Efj",
    "outputId": "4c43ecc0-0276-49b8-8ae8-4f56d6e7576c"
   },
   "outputs": [
    {
     "name": "stdout",
     "output_type": "stream",
     "text": [
      "              precision    recall  f1-score   support\n",
      "\n",
      "   malignant       0.98      0.98      0.98        63\n",
      "      benign       0.99      0.99      0.99       108\n",
      "\n",
      "    accuracy                           0.99       171\n",
      "   macro avg       0.99      0.99      0.99       171\n",
      "weighted avg       0.99      0.99      0.99       171\n",
      "\n"
     ]
    }
   ],
   "source": [
    "clf = make_pipeline(StandardScaler(), SVC(C = 10))\n",
    "clf.fit(X_train, y_train)\n",
    "y_pred = clf.predict(X_test)\n",
    "\n",
    "print(classification_report(y_test, y_pred, labels=range(len(data.target_names)), target_names=data.target_names))"
   ]
  },
  {
   "cell_type": "code",
   "execution_count": 65,
   "metadata": {
    "colab": {
     "base_uri": "https://localhost:8080/"
    },
    "executionInfo": {
     "elapsed": 39,
     "status": "ok",
     "timestamp": 1650788773690,
     "user": {
      "displayName": "Alireza Afzal Aghaei",
      "userId": "09957512466846387524"
     },
     "user_tz": -270
    },
    "id": "YzcZPOZt9HjD",
    "outputId": "3fc9be62-1fae-4336-f893-e00c721c97a7"
   },
   "outputs": [
    {
     "name": "stdout",
     "output_type": "stream",
     "text": [
      "total number of support vectors: 79\n",
      "number of support vectors for each class [40, 39]\n"
     ]
    }
   ],
   "source": [
    "print('total number of support vectors:', clf.steps[1][1].n_support_.sum())\n",
    "print('number of support vectors for each class', clf.steps[1][1].n_support_.tolist())"
   ]
  },
  {
   "cell_type": "code",
   "execution_count": 66,
   "metadata": {
    "colab": {
     "base_uri": "https://localhost:8080/"
    },
    "executionInfo": {
     "elapsed": 36,
     "status": "ok",
     "timestamp": 1650788773691,
     "user": {
      "displayName": "Alireza Afzal Aghaei",
      "userId": "09957512466846387524"
     },
     "user_tz": -270
    },
    "id": "H3SA15Uj9K7K",
    "outputId": "8c83d0f1-fe7a-43ee-b763-702fbc13d4f0"
   },
   "outputs": [
    {
     "name": "stdout",
     "output_type": "stream",
     "text": [
      "Alphas: [[ -7.602  -2.372  -1.398  -0.279 -10.     -0.762  -0.441  -0.156  -0.697\n",
      "  -10.     -0.684 -10.    -10.     -0.74  -10.     -0.059 -10.     -2.011\n",
      "   -0.099  -0.331  -0.645  -3.361  -0.296  -0.567  -0.511  -3.821  -0.19\n",
      "   -0.735  -1.501  -0.221  -6.184  -0.201  -0.271  -0.049  -0.541  -5.114\n",
      "   -0.049 -10.     -0.682  -0.646   9.909   0.689   1.848  10.      1.885\n",
      "    2.5     3.946   6.183   0.431   0.997   1.814   0.878   1.523   8.95\n",
      "    1.775   0.722   0.649   5.004   6.36    2.066   1.18    1.566   1.502\n",
      "    1.421  10.      1.044   0.231   0.127   0.988  10.      1.858   0.117\n",
      "    0.829   1.766   0.644  10.      0.428   1.103   0.285]]\n"
     ]
    }
   ],
   "source": [
    "print('Alphas:', clf.steps[1][1].dual_coef_.round(3))"
   ]
  },
  {
   "cell_type": "code",
   "execution_count": 72,
   "metadata": {
    "id": "YhXn45icPJF7"
   },
   "outputs": [
    {
     "data": {
      "text/plain": [
       "<sklearn.metrics._plot.confusion_matrix.ConfusionMatrixDisplay at 0x7f18680cb4c0>"
      ]
     },
     "execution_count": 72,
     "metadata": {},
     "output_type": "execute_result"
    },
    {
     "data": {
      "image/png": "[encoded data removed]",
      "text/plain": [
       "<Figure size 432x288 with 2 Axes>"
      ]
     },
     "metadata": {
      "needs_background": "light"
     },
     "output_type": "display_data"
    }
   ],
   "source": [
    "ConfusionMatrixDisplay.from_predictions(y_test, y_pred, labels=range(len(data.target_names)), display_labels=data.target_names)"
   ]
  },
  {
   "cell_type": "code",
   "execution_count": 81,
   "metadata": {
    "colab": {
     "base_uri": "https://localhost:8080/"
    },
    "executionInfo": {
     "elapsed": 5034,
     "status": "ok",
     "timestamp": 1650788778694,
     "user": {
      "displayName": "Alireza Afzal Aghaei",
      "userId": "09957512466846387524"
     },
     "user_tz": -270
    },
    "id": "Alg4lSxd9Mhu",
    "outputId": "20bbcd49-da7e-491f-a864-73cc3c55d950"
   },
   "outputs": [
    {
     "data": {
      "text/plain": [
       "GridSearchCV(cv=5,\n",
       "             estimator=Pipeline(steps=[('standardscaler', StandardScaler()),\n",
       "                                       ('svc',\n",
       "                                        SVC(class_weight='balanced',\n",
       "                                            probability=True))]),\n",
       "             n_jobs=-1,\n",
       "             param_grid={'svc__C': [1, 2, 3, 4, 5, 6, 7, 8, 9],\n",
       "                         'svc__gamma': [0.001, 0.01, 0.1, 1.0, 10],\n",
       "                         'svc__kernel': ['linear', 'rbf', 'poly']},\n",
       "             scoring='f1')"
      ]
     },
     "execution_count": 81,
     "metadata": {},
     "output_type": "execute_result"
    }
   ],
   "source": [
    "#class_weight='balanced' -> class with more data use more vectors\n",
    "#probability=True -> use probability\n",
    "pipe = make_pipeline(StandardScaler(), SVC(class_weight='balanced', probability=True))\n",
    "\n",
    "parameters = {'svc__kernel':['linear', 'rbf', 'poly'], 'svc__C':[i for i in range (1, 10)],\n",
    "              'svc__gamma': [0.001, 0.01, 0.1, 1.0, 10]}\n",
    "\n",
    "#n_jobs=-1 -> use all system's ability\n",
    "#cv=5 -> cross-validation 5 fold\n",
    "clf = GridSearchCV(pipe, parameters, scoring='f1', n_jobs=-1, cv=5)\n",
    "\n",
    "clf.fit(X_train, y_train)"
   ]
  },
  {
   "cell_type": "code",
   "execution_count": 82,
   "metadata": {
    "colab": {
     "base_uri": "https://localhost:8080/"
    },
    "executionInfo": {
     "elapsed": 19,
     "status": "ok",
     "timestamp": 1650788778696,
     "user": {
      "displayName": "Alireza Afzal Aghaei",
      "userId": "09957512466846387524"
     },
     "user_tz": -270
    },
    "id": "_TlZ7KfSMyhg",
    "outputId": "e323459b-b6cf-4c82-e868-5130e5015e4d"
   },
   "outputs": [
    {
     "data": {
      "text/plain": [
       "SVC(C=1, class_weight='balanced', gamma=0.001, kernel='linear',\n",
       "    probability=True)"
      ]
     },
     "execution_count": 82,
     "metadata": {},
     "output_type": "execute_result"
    }
   ],
   "source": [
    "clf.best_estimator_.steps[1][1]"
   ]
  },
  {
   "cell_type": "code",
   "execution_count": 86,
   "metadata": {
    "colab": {
     "base_uri": "https://localhost:8080/",
     "height": 979
    },
    "executionInfo": {
     "elapsed": 17,
     "status": "ok",
     "timestamp": 1650788778697,
     "user": {
      "displayName": "Alireza Afzal Aghaei",
      "userId": "09957512466846387524"
     },
     "user_tz": -270
    },
    "id": "gsXn6tQUBGPT",
    "outputId": "d0e6e652-1747-4bfd-bd2e-35334c3fbcb8"
   },
   "outputs": [
    {
     "data": {
      "text/html": [
       "<div>\n",
       "<style scoped>\n",
       "    .dataframe tbody tr th:only-of-type {\n",
       "        vertical-align: middle;\n",
       "    }\n",
       "\n",
       "    .dataframe tbody tr th {\n",
       "        vertical-align: top;\n",
       "    }\n",
       "\n",
       "    .dataframe thead th {\n",
       "        text-align: right;\n",
       "    }\n",
       "</style>\n",
       "<table border=\"1\" class=\"dataframe\">\n",
       "  <thead>\n",
       "    <tr style=\"text-align: right;\">\n",
       "      <th></th>\n",
       "      <th>rank_test_score</th>\n",
       "      <th>params</th>\n",
       "      <th>mean_test_score</th>\n",
       "      <th>mean_fit_time</th>\n",
       "    </tr>\n",
       "  </thead>\n",
       "  <tbody>\n",
       "    <tr>\n",
       "      <th>0</th>\n",
       "      <td>1</td>\n",
       "      <td>{'svc__C': 1, 'svc__gamma': 0.001, 'svc__kerne...</td>\n",
       "      <td>98.811</td>\n",
       "      <td>0.010</td>\n",
       "    </tr>\n",
       "    <tr>\n",
       "      <th>3</th>\n",
       "      <td>1</td>\n",
       "      <td>{'svc__C': 1, 'svc__gamma': 0.01, 'svc__kernel...</td>\n",
       "      <td>98.811</td>\n",
       "      <td>0.012</td>\n",
       "    </tr>\n",
       "    <tr>\n",
       "      <th>6</th>\n",
       "      <td>1</td>\n",
       "      <td>{'svc__C': 1, 'svc__gamma': 0.1, 'svc__kernel'...</td>\n",
       "      <td>98.811</td>\n",
       "      <td>0.010</td>\n",
       "    </tr>\n",
       "    <tr>\n",
       "      <th>9</th>\n",
       "      <td>1</td>\n",
       "      <td>{'svc__C': 1, 'svc__gamma': 1.0, 'svc__kernel'...</td>\n",
       "      <td>98.811</td>\n",
       "      <td>0.014</td>\n",
       "    </tr>\n",
       "    <tr>\n",
       "      <th>12</th>\n",
       "      <td>1</td>\n",
       "      <td>{'svc__C': 1, 'svc__gamma': 10, 'svc__kernel':...</td>\n",
       "      <td>98.811</td>\n",
       "      <td>0.011</td>\n",
       "    </tr>\n",
       "    <tr>\n",
       "      <th>...</th>\n",
       "      <td>...</td>\n",
       "      <td>...</td>\n",
       "      <td>...</td>\n",
       "      <td>...</td>\n",
       "    </tr>\n",
       "    <tr>\n",
       "      <th>103</th>\n",
       "      <td>124</td>\n",
       "      <td>{'svc__C': 7, 'svc__gamma': 10, 'svc__kernel':...</td>\n",
       "      <td>76.970</td>\n",
       "      <td>0.053</td>\n",
       "    </tr>\n",
       "    <tr>\n",
       "      <th>58</th>\n",
       "      <td>124</td>\n",
       "      <td>{'svc__C': 4, 'svc__gamma': 10, 'svc__kernel':...</td>\n",
       "      <td>76.970</td>\n",
       "      <td>0.051</td>\n",
       "    </tr>\n",
       "    <tr>\n",
       "      <th>133</th>\n",
       "      <td>124</td>\n",
       "      <td>{'svc__C': 9, 'svc__gamma': 10, 'svc__kernel':...</td>\n",
       "      <td>76.970</td>\n",
       "      <td>0.049</td>\n",
       "    </tr>\n",
       "    <tr>\n",
       "      <th>13</th>\n",
       "      <td>124</td>\n",
       "      <td>{'svc__C': 1, 'svc__gamma': 10, 'svc__kernel':...</td>\n",
       "      <td>76.970</td>\n",
       "      <td>0.051</td>\n",
       "    </tr>\n",
       "    <tr>\n",
       "      <th>32</th>\n",
       "      <td>124</td>\n",
       "      <td>{'svc__C': 3, 'svc__gamma': 0.001, 'svc__kerne...</td>\n",
       "      <td>76.970</td>\n",
       "      <td>0.031</td>\n",
       "    </tr>\n",
       "  </tbody>\n",
       "</table>\n",
       "<p>135 rows × 4 columns</p>\n",
       "</div>"
      ],
      "text/plain": [
       "     rank_test_score                                             params  \\\n",
       "0                  1  {'svc__C': 1, 'svc__gamma': 0.001, 'svc__kerne...   \n",
       "3                  1  {'svc__C': 1, 'svc__gamma': 0.01, 'svc__kernel...   \n",
       "6                  1  {'svc__C': 1, 'svc__gamma': 0.1, 'svc__kernel'...   \n",
       "9                  1  {'svc__C': 1, 'svc__gamma': 1.0, 'svc__kernel'...   \n",
       "12                 1  {'svc__C': 1, 'svc__gamma': 10, 'svc__kernel':...   \n",
       "..               ...                                                ...   \n",
       "103              124  {'svc__C': 7, 'svc__gamma': 10, 'svc__kernel':...   \n",
       "58               124  {'svc__C': 4, 'svc__gamma': 10, 'svc__kernel':...   \n",
       "133              124  {'svc__C': 9, 'svc__gamma': 10, 'svc__kernel':...   \n",
       "13               124  {'svc__C': 1, 'svc__gamma': 10, 'svc__kernel':...   \n",
       "32               124  {'svc__C': 3, 'svc__gamma': 0.001, 'svc__kerne...   \n",
       "\n",
       "     mean_test_score  mean_fit_time  \n",
       "0             98.811          0.010  \n",
       "3             98.811          0.012  \n",
       "6             98.811          0.010  \n",
       "9             98.811          0.014  \n",
       "12            98.811          0.011  \n",
       "..               ...            ...  \n",
       "103           76.970          0.053  \n",
       "58            76.970          0.051  \n",
       "133           76.970          0.049  \n",
       "13            76.970          0.051  \n",
       "32            76.970          0.031  \n",
       "\n",
       "[135 rows x 4 columns]"
      ]
     },
     "execution_count": 86,
     "metadata": {},
     "output_type": "execute_result"
    }
   ],
   "source": [
    "results = clf.cv_results_\n",
    "df = pd.DataFrame(results)\n",
    "\n",
    "df.mean_test_score = df.mean_test_score.round(5) * 100\n",
    "df.mean_fit_time = df.mean_fit_time.round(3)\n",
    "df.params.str.replace('svc__', '')\n",
    "\n",
    "df = df[[\n",
    "    'rank_test_score', 'params', 'mean_test_score', 'mean_fit_time'\n",
    "]]\n",
    "df.sort_values('rank_test_score',inplace=True)\n",
    "df"
   ]
  },
  {
   "cell_type": "code",
   "execution_count": 87,
   "metadata": {
    "colab": {
     "base_uri": "https://localhost:8080/"
    },
    "executionInfo": {
     "elapsed": 16,
     "status": "ok",
     "timestamp": 1650788778698,
     "user": {
      "displayName": "Alireza Afzal Aghaei",
      "userId": "09957512466846387524"
     },
     "user_tz": -270
    },
    "id": "XoJcFl_crUTt",
    "outputId": "739c88de-471d-4987-8c3e-086743aeb1b4"
   },
   "outputs": [
    {
     "data": {
      "text/plain": [
       "SVC(C=1, class_weight='balanced', gamma=0.001, kernel='linear',\n",
       "    probability=True)"
      ]
     },
     "execution_count": 87,
     "metadata": {},
     "output_type": "execute_result"
    }
   ],
   "source": [
    "clf.best_estimator_.steps[1][1]"
   ]
  },
  {
   "cell_type": "code",
   "execution_count": 89,
   "metadata": {
    "colab": {
     "base_uri": "https://localhost:8080/",
     "height": 297
    },
    "executionInfo": {
     "elapsed": 657,
     "status": "ok",
     "timestamp": 1650788779342,
     "user": {
      "displayName": "Alireza Afzal Aghaei",
      "userId": "09957512466846387524"
     },
     "user_tz": -270
    },
    "id": "fjpbVjxfM0PH",
    "outputId": "68327f41-4caa-44ca-8eca-003f209bb630"
   },
   "outputs": [
    {
     "data": {
      "text/plain": [
       "<sklearn.metrics._plot.confusion_matrix.ConfusionMatrixDisplay at 0x7f187769dcd0>"
      ]
     },
     "execution_count": 89,
     "metadata": {},
     "output_type": "execute_result"
    },
    {
     "data": {
      "image/png": "[encoded data removed]",
      "text/plain": [
       "<Figure size 432x288 with 2 Axes>"
      ]
     },
     "metadata": {
      "needs_background": "light"
     },
     "output_type": "display_data"
    }
   ],
   "source": [
    "ConfusionMatrixDisplay.from_predictions(y_test, y_pred, labels=range(len(data.target_names))\n",
    "                                        , display_labels=data.target_names)"
   ]
  },
  {
   "cell_type": "code",
   "execution_count": 90,
   "metadata": {
    "colab": {
     "base_uri": "https://localhost:8080/"
    },
    "executionInfo": {
     "elapsed": 16,
     "status": "ok",
     "timestamp": 1650788779343,
     "user": {
      "displayName": "Alireza Afzal Aghaei",
      "userId": "09957512466846387524"
     },
     "user_tz": -270
    },
    "id": "bTEkHYYGPVFl",
    "outputId": "5725de69-b6f4-4c48-9177-470db06cf551"
   },
   "outputs": [
    {
     "name": "stdout",
     "output_type": "stream",
     "text": [
      "total number of support vectors: 35\n",
      "number of support vectors for each class [12, 23]\n"
     ]
    }
   ],
   "source": [
    "print('total number of support vectors:', clf.best_estimator_.steps[1][1].n_support_.sum())\n",
    "print('number of support vectors for each class', clf.best_estimator_.steps[1][1].n_support_.tolist())"
   ]
  },
  {
   "cell_type": "code",
   "execution_count": 91,
   "metadata": {
    "colab": {
     "base_uri": "https://localhost:8080/"
    },
    "executionInfo": {
     "elapsed": 15,
     "status": "ok",
     "timestamp": 1650788779344,
     "user": {
      "displayName": "Alireza Afzal Aghaei",
      "userId": "09957512466846387524"
     },
     "user_tz": -270
    },
    "id": "ZgVP4AxcPJkO",
    "outputId": "c61d0029-7770-47cb-d030-4807d509177b"
   },
   "outputs": [
    {
     "name": "stdout",
     "output_type": "stream",
     "text": [
      "Alphas: [[-0.08 -1.34 -1.34 -1.34 -1.34 -0.62 -1.34 -1.34 -0.96 -0.24 -1.34 -1.34\n",
      "   0.8   0.31  0.5   0.8   0.8   0.47  0.8   0.15  0.8   0.55  0.8   0.8\n",
      "   0.8   0.55  0.06  0.19  0.8   0.01  0.8   0.8   0.04  0.18  0.8 ]]\n"
     ]
    }
   ],
   "source": [
    "print('Alphas:', clf.best_estimator_.steps[1][1].dual_coef_.round(2))"
   ]
  }
 ],
 "metadata": {
  "colab": {
   "collapsed_sections": [],
   "name": "SVM-Simple  cancer.ipynb",
   "provenance": [
    {
     "file_id": "1SQTYX1QJA4d1G1LSYCMioKDV4vRUTkjW",
     "timestamp": 1650964430085
    }
   ]
  },
  "kernelspec": {
   "display_name": "Python 3 (ipykernel)",
   "language": "python",
   "name": "python3"
  },
  "language_info": {
   "codemirror_mode": {
    "name": "ipython",
    "version": 3
   },
   "file_extension": ".py",
   "mimetype": "text/x-python",
   "name": "python",
   "nbconvert_exporter": "python",
   "pygments_lexer": "ipython3",
   "version": "3.8.13"
  }
 },
 "nbformat": 4,
 "nbformat_minor": 4
}
