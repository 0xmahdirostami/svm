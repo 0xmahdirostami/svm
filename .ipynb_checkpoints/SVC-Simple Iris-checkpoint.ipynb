{
 "cells": [
  {
   "cell_type": "markdown",
   "metadata": {
    "id": "cfiJP5uExxRw"
   },
   "source": [
    "Importing necessary packages."
   ]
  },
  {
   "cell_type": "code",
   "execution_count": 4,
   "metadata": {
    "executionInfo": {
     "elapsed": 1819,
     "status": "ok",
     "timestamp": 1650969148252,
     "user": {
      "displayName": "Mahdi Rostami",
      "userId": "07920215040166358053"
     },
     "user_tz": -270
    },
    "id": "JmYf_mAtBnWe"
   },
   "outputs": [],
   "source": [
    "import numpy as np\n",
    "import pandas as pd\n",
    "from sklearn.svm import SVC\n",
    "from sklearn.pipeline import make_pipeline\n",
    "from sklearn.datasets import load_breast_cancer, load_iris, load_boston\n",
    "from sklearn.preprocessing import StandardScaler, MinMaxScaler\n",
    "from sklearn.model_selection import GridSearchCV, train_test_split\n",
    "from sklearn.metrics import classification_report, confusion_matrix, ConfusionMatrixDisplay"
   ]
  },
  {
   "cell_type": "code",
   "execution_count": 9,
   "metadata": {
    "colab": {
     "base_uri": "https://localhost:8080/"
    },
    "executionInfo": {
     "elapsed": 20,
     "status": "ok",
     "timestamp": 1650969148721,
     "user": {
      "displayName": "Mahdi Rostami",
      "userId": "07920215040166358053"
     },
     "user_tz": -270
    },
    "id": "u19F7_oIB-tI",
    "outputId": "5abbbd6e-cd85-4d2a-d228-05efd6ff3743"
   },
   "outputs": [
    {
     "data": {
      "text/plain": [
       "((150, 4), (150,))"
      ]
     },
     "execution_count": 9,
     "metadata": {},
     "output_type": "execute_result"
    }
   ],
   "source": [
    "data = load_iris()\n",
    "X = data.data\n",
    "y = data.target\n",
    "X.shape, y.shape"
   ]
  },
  {
   "cell_type": "code",
   "execution_count": 13,
   "metadata": {
    "colab": {
     "base_uri": "https://localhost:8080/",
     "height": 434
    },
    "executionInfo": {
     "elapsed": 14,
     "status": "error",
     "timestamp": 1650969148723,
     "user": {
      "displayName": "Mahdi Rostami",
      "userId": "07920215040166358053"
     },
     "user_tz": -270
    },
    "id": "OurD5tidv3pa",
    "outputId": "becd3904-01fa-4a9e-b958-acbe325c1377"
   },
   "outputs": [
    {
     "data": {
      "text/html": [
       "<div>\n",
       "<style scoped>\n",
       "    .dataframe tbody tr th:only-of-type {\n",
       "        vertical-align: middle;\n",
       "    }\n",
       "\n",
       "    .dataframe tbody tr th {\n",
       "        vertical-align: top;\n",
       "    }\n",
       "\n",
       "    .dataframe thead th {\n",
       "        text-align: right;\n",
       "    }\n",
       "</style>\n",
       "<table border=\"1\" class=\"dataframe\">\n",
       "  <thead>\n",
       "    <tr style=\"text-align: right;\">\n",
       "      <th></th>\n",
       "      <th>sepal length (cm)</th>\n",
       "      <th>sepal width (cm)</th>\n",
       "      <th>petal length (cm)</th>\n",
       "      <th>petal width (cm)</th>\n",
       "      <th>Class</th>\n",
       "    </tr>\n",
       "  </thead>\n",
       "  <tbody>\n",
       "    <tr>\n",
       "      <th>0</th>\n",
       "      <td>5.1</td>\n",
       "      <td>3.5</td>\n",
       "      <td>1.4</td>\n",
       "      <td>0.2</td>\n",
       "      <td>setosa</td>\n",
       "    </tr>\n",
       "    <tr>\n",
       "      <th>1</th>\n",
       "      <td>4.9</td>\n",
       "      <td>3.0</td>\n",
       "      <td>1.4</td>\n",
       "      <td>0.2</td>\n",
       "      <td>setosa</td>\n",
       "    </tr>\n",
       "    <tr>\n",
       "      <th>2</th>\n",
       "      <td>4.7</td>\n",
       "      <td>3.2</td>\n",
       "      <td>1.3</td>\n",
       "      <td>0.2</td>\n",
       "      <td>setosa</td>\n",
       "    </tr>\n",
       "    <tr>\n",
       "      <th>3</th>\n",
       "      <td>4.6</td>\n",
       "      <td>3.1</td>\n",
       "      <td>1.5</td>\n",
       "      <td>0.2</td>\n",
       "      <td>setosa</td>\n",
       "    </tr>\n",
       "    <tr>\n",
       "      <th>4</th>\n",
       "      <td>5.0</td>\n",
       "      <td>3.6</td>\n",
       "      <td>1.4</td>\n",
       "      <td>0.2</td>\n",
       "      <td>setosa</td>\n",
       "    </tr>\n",
       "    <tr>\n",
       "      <th>...</th>\n",
       "      <td>...</td>\n",
       "      <td>...</td>\n",
       "      <td>...</td>\n",
       "      <td>...</td>\n",
       "      <td>...</td>\n",
       "    </tr>\n",
       "    <tr>\n",
       "      <th>145</th>\n",
       "      <td>6.7</td>\n",
       "      <td>3.0</td>\n",
       "      <td>5.2</td>\n",
       "      <td>2.3</td>\n",
       "      <td>virginica</td>\n",
       "    </tr>\n",
       "    <tr>\n",
       "      <th>146</th>\n",
       "      <td>6.3</td>\n",
       "      <td>2.5</td>\n",
       "      <td>5.0</td>\n",
       "      <td>1.9</td>\n",
       "      <td>virginica</td>\n",
       "    </tr>\n",
       "    <tr>\n",
       "      <th>147</th>\n",
       "      <td>6.5</td>\n",
       "      <td>3.0</td>\n",
       "      <td>5.2</td>\n",
       "      <td>2.0</td>\n",
       "      <td>virginica</td>\n",
       "    </tr>\n",
       "    <tr>\n",
       "      <th>148</th>\n",
       "      <td>6.2</td>\n",
       "      <td>3.4</td>\n",
       "      <td>5.4</td>\n",
       "      <td>2.3</td>\n",
       "      <td>virginica</td>\n",
       "    </tr>\n",
       "    <tr>\n",
       "      <th>149</th>\n",
       "      <td>5.9</td>\n",
       "      <td>3.0</td>\n",
       "      <td>5.1</td>\n",
       "      <td>1.8</td>\n",
       "      <td>virginica</td>\n",
       "    </tr>\n",
       "  </tbody>\n",
       "</table>\n",
       "<p>150 rows × 5 columns</p>\n",
       "</div>"
      ],
      "text/plain": [
       "     sepal length (cm)  sepal width (cm)  petal length (cm)  petal width (cm)  \\\n",
       "0                  5.1               3.5                1.4               0.2   \n",
       "1                  4.9               3.0                1.4               0.2   \n",
       "2                  4.7               3.2                1.3               0.2   \n",
       "3                  4.6               3.1                1.5               0.2   \n",
       "4                  5.0               3.6                1.4               0.2   \n",
       "..                 ...               ...                ...               ...   \n",
       "145                6.7               3.0                5.2               2.3   \n",
       "146                6.3               2.5                5.0               1.9   \n",
       "147                6.5               3.0                5.2               2.0   \n",
       "148                6.2               3.4                5.4               2.3   \n",
       "149                5.9               3.0                5.1               1.8   \n",
       "\n",
       "         Class  \n",
       "0       setosa  \n",
       "1       setosa  \n",
       "2       setosa  \n",
       "3       setosa  \n",
       "4       setosa  \n",
       "..         ...  \n",
       "145  virginica  \n",
       "146  virginica  \n",
       "147  virginica  \n",
       "148  virginica  \n",
       "149  virginica  \n",
       "\n",
       "[150 rows x 5 columns]"
      ]
     },
     "execution_count": 13,
     "metadata": {},
     "output_type": "execute_result"
    }
   ],
   "source": [
    "df = pd.DataFrame(np.hstack([X, y.reshape(-1, 1)]),columns=data.feature_names+ ['Class'])\n",
    "df['Class'].replace(dict(enumerate(data.target_names)), inplace=True)\n",
    "\n",
    "df"
   ]
  },
  {
   "cell_type": "markdown",
   "metadata": {
    "id": "5uybsMbXx33G"
   },
   "source": [
    "Split the data into train and test chunks"
   ]
  },
  {
   "cell_type": "code",
   "execution_count": 14,
   "metadata": {
    "colab": {
     "base_uri": "https://localhost:8080/"
    },
    "executionInfo": {
     "elapsed": 415,
     "status": "ok",
     "timestamp": 1650969182158,
     "user": {
      "displayName": "Mahdi Rostami",
      "userId": "07920215040166358053"
     },
     "user_tz": -270
    },
    "id": "Jgiq36lvCNV5",
    "outputId": "8040ffea-e614-4f76-ffda-5306f8a62086"
   },
   "outputs": [
    {
     "data": {
      "text/plain": [
       "((105, 4), (45, 4))"
      ]
     },
     "execution_count": 14,
     "metadata": {},
     "output_type": "execute_result"
    }
   ],
   "source": [
    "X_train, X_test, y_train, y_test = train_test_split(X, y, test_size = 0.3, random_state=0)\n",
    "\n",
    "X_train.shape, X_test.shape"
   ]
  },
  {
   "cell_type": "markdown",
   "metadata": {
    "id": "tVugtbWUx73-"
   },
   "source": [
    "train (fit) and SVC model (**Support Vector Classification**)"
   ]
  },
  {
   "cell_type": "code",
   "execution_count": 15,
   "metadata": {
    "colab": {
     "base_uri": "https://localhost:8080/",
     "height": 329
    },
    "executionInfo": {
     "elapsed": 9,
     "status": "error",
     "timestamp": 1650969183647,
     "user": {
      "displayName": "Mahdi Rostami",
      "userId": "07920215040166358053"
     },
     "user_tz": -270
    },
    "id": "WyVGXIdoxocF",
    "outputId": "feeb5573-7807-4f6b-b09d-0aee5c95bbdd"
   },
   "outputs": [
    {
     "data": {
      "text/plain": [
       "SVC(C=1)"
      ]
     },
     "execution_count": 15,
     "metadata": {},
     "output_type": "execute_result"
    }
   ],
   "source": [
    "clf = SVC(C = 1)\n",
    "clf.fit(X_train, y_train)"
   ]
  },
  {
   "cell_type": "markdown",
   "metadata": {
    "id": "DCNyaGhOyJoe"
   },
   "source": [
    "Predict the test data and calculate the binary classification metrics"
   ]
  },
  {
   "cell_type": "code",
   "execution_count": 16,
   "metadata": {
    "colab": {
     "base_uri": "https://localhost:8080/",
     "height": 296
    },
    "executionInfo": {
     "elapsed": 5,
     "status": "ok",
     "timestamp": 1650968329794,
     "user": {
      "displayName": "parand parand",
      "userId": "17014883922676788464"
     },
     "user_tz": 240
    },
    "id": "0DXrD1NZxoUj",
    "outputId": "bfc6c5c5-43e1-4218-d43f-4d38e03f67da"
   },
   "outputs": [
    {
     "data": {
      "text/plain": [
       "<sklearn.metrics._plot.confusion_matrix.ConfusionMatrixDisplay at 0x7f78bf775850>"
      ]
     },
     "execution_count": 16,
     "metadata": {},
     "output_type": "execute_result"
    },
    {
     "data": {
      "image/png": "[encoded data removed]",
      "text/plain": [
       "<Figure size 432x288 with 2 Axes>"
      ]
     },
     "metadata": {
      "needs_background": "light"
     },
     "output_type": "display_data"
    }
   ],
   "source": [
    "y_pred = clf.predict(X_test)\n",
    "ConfusionMatrixDisplay.from_predictions(y_test, y_pred, labels=range(len(data.target_names)), display_labels=data.target_names)"
   ]
  },
  {
   "cell_type": "code",
   "execution_count": 17,
   "metadata": {
    "colab": {
     "base_uri": "https://localhost:8080/"
    },
    "executionInfo": {
     "elapsed": 615,
     "status": "ok",
     "timestamp": 1650968417254,
     "user": {
      "displayName": "parand parand",
      "userId": "17014883922676788464"
     },
     "user_tz": 240
    },
    "id": "zCI9lsKk019g",
    "outputId": "7c05c419-f089-41ae-bac1-98b35ee258c7"
   },
   "outputs": [
    {
     "name": "stdout",
     "output_type": "stream",
     "text": [
      "              precision    recall  f1-score   support\n",
      "\n",
      "      setosa       1.00      1.00      1.00        16\n",
      "  versicolor       1.00      0.94      0.97        18\n",
      "   virginica       0.92      1.00      0.96        11\n",
      "\n",
      "    accuracy                           0.98        45\n",
      "   macro avg       0.97      0.98      0.98        45\n",
      "weighted avg       0.98      0.98      0.98        45\n",
      "\n"
     ]
    }
   ],
   "source": [
    "print(classification_report(y_test, y_pred, labels=range(len(data.target_names)), target_names=data.target_names))"
   ]
  },
  {
   "cell_type": "code",
   "execution_count": 18,
   "metadata": {
    "colab": {
     "base_uri": "https://localhost:8080/"
    },
    "executionInfo": {
     "elapsed": 575,
     "status": "ok",
     "timestamp": 1650968428922,
     "user": {
      "displayName": "parand parand",
      "userId": "17014883922676788464"
     },
     "user_tz": 240
    },
    "id": "O8nPCVlo6JEZ",
    "outputId": "d6f71690-efef-4a5f-ee66-1b124ab149d4"
   },
   "outputs": [
    {
     "name": "stdout",
     "output_type": "stream",
     "text": [
      "total number of support vectors: 48\n",
      "number of support vectors for each class [5, 23, 20]\n"
     ]
    }
   ],
   "source": [
    "print('total number of support vectors:', clf.n_support_.sum())\n",
    "print('number of support vectors for each class', clf.n_support_.tolist())"
   ]
  },
  {
   "cell_type": "code",
   "execution_count": 19,
   "metadata": {
    "colab": {
     "base_uri": "https://localhost:8080/"
    },
    "executionInfo": {
     "elapsed": 688,
     "status": "ok",
     "timestamp": 1650968457667,
     "user": {
      "displayName": "parand parand",
      "userId": "17014883922676788464"
     },
     "user_tz": 240
    },
    "id": "5pAt900623gY",
    "outputId": "ee27b3c3-c346-493b-effe-c656e98e9a67"
   },
   "outputs": [
    {
     "name": "stdout",
     "output_type": "stream",
     "text": [
      "Alphas: [[ 1.     0.895  0.291  1.     1.    -0.509 -0.    -0.    -0.    -0.\n",
      "  -0.677 -0.    -0.    -1.    -0.    -0.    -0.    -0.    -0.    -0.\n",
      "  -1.    -0.    -1.    -0.    -0.    -0.    -0.    -0.    -0.    -0.\n",
      "  -0.    -0.    -1.    -0.    -0.    -0.    -0.    -0.    -0.    -0.\n",
      "  -0.    -0.    -0.318 -0.696 -0.    -0.    -0.    -0.   ]\n",
      " [ 0.     0.366  0.648  1.     0.     0.     1.     1.     1.     1.\n",
      "   0.     1.     1.     0.     1.     1.     0.43   1.     1.     1.\n",
      "   0.     1.     0.     1.     1.     1.     1.     1.    -1.    -1.\n",
      "  -1.    -1.    -1.    -1.    -1.    -1.    -1.    -1.    -1.    -1.\n",
      "  -1.    -1.    -0.    -1.    -0.361 -1.    -1.    -0.069]]\n"
     ]
    }
   ],
   "source": [
    "print('Alphas:', clf.dual_coef_.round(3))"
   ]
  },
  {
   "cell_type": "code",
   "execution_count": 20,
   "metadata": {
    "colab": {
     "base_uri": "https://localhost:8080/"
    },
    "executionInfo": {
     "elapsed": 587,
     "status": "ok",
     "timestamp": 1650968464939,
     "user": {
      "displayName": "parand parand",
      "userId": "17014883922676788464"
     },
     "user_tz": 240
    },
    "id": "Mu7HMUXNRrTW",
    "outputId": "f94fe531-e9ea-4c17-9bdc-9e29515f8b2e"
   },
   "outputs": [
    {
     "data": {
      "text/plain": [
       "array([ 0.09603628, -0.07292078, -0.07201129])"
      ]
     },
     "execution_count": 20,
     "metadata": {},
     "output_type": "execute_result"
    }
   ],
   "source": [
    "clf.intercept_"
   ]
  },
  {
   "cell_type": "markdown",
   "metadata": {
    "id": "gYqU3gPkyR1R"
   },
   "source": [
    "The same process after normalizing the data"
   ]
  },
  {
   "cell_type": "code",
   "execution_count": 21,
   "metadata": {
    "colab": {
     "base_uri": "https://localhost:8080/",
     "height": 296
    },
    "executionInfo": {
     "elapsed": 784,
     "status": "ok",
     "timestamp": 1650968474826,
     "user": {
      "displayName": "parand parand",
      "userId": "17014883922676788464"
     },
     "user_tz": 240
    },
    "id": "aIiTYau0FazC",
    "outputId": "a41adb97-0c34-4c2f-f003-368e8e892327"
   },
   "outputs": [
    {
     "data": {
      "text/plain": [
       "<sklearn.metrics._plot.confusion_matrix.ConfusionMatrixDisplay at 0x7f78bf7ae730>"
      ]
     },
     "execution_count": 21,
     "metadata": {},
     "output_type": "execute_result"
    },
    {
     "data": {
      "image/png": "[encoded data removed]",
      "text/plain": [
       "<Figure size 432x288 with 2 Axes>"
      ]
     },
     "metadata": {
      "needs_background": "light"
     },
     "output_type": "display_data"
    }
   ],
   "source": [
    "clf = make_pipeline(MinMaxScaler(), SVC(C = 1))\n",
    "clf.fit(X_train, y_train)\n",
    "y_pred = clf.predict(X_test)\n",
    "\n",
    "ConfusionMatrixDisplay.from_predictions(y_test, y_pred, labels=range(len(data.target_names)), display_labels=data.target_names)\n"
   ]
  },
  {
   "cell_type": "code",
   "execution_count": 22,
   "metadata": {
    "colab": {
     "base_uri": "https://localhost:8080/"
    },
    "executionInfo": {
     "elapsed": 51,
     "status": "ok",
     "timestamp": 1650788773676,
     "user": {
      "displayName": "Alireza Afzal Aghaei",
      "userId": "09957512466846387524"
     },
     "user_tz": -270
    },
    "id": "KN3yA8HFGB5J",
    "outputId": "2479b791-8377-4672-ad90-d32c7ba238a9"
   },
   "outputs": [
    {
     "name": "stdout",
     "output_type": "stream",
     "text": [
      "              precision    recall  f1-score   support\n",
      "\n",
      "      setosa       1.00      1.00      1.00        16\n",
      "  versicolor       1.00      0.94      0.97        18\n",
      "   virginica       0.92      1.00      0.96        11\n",
      "\n",
      "    accuracy                           0.98        45\n",
      "   macro avg       0.97      0.98      0.98        45\n",
      "weighted avg       0.98      0.98      0.98        45\n",
      "\n"
     ]
    }
   ],
   "source": [
    "print(classification_report(y_test, y_pred, labels=range(len(data.target_names)), target_names=data.target_names))"
   ]
  },
  {
   "cell_type": "code",
   "execution_count": 23,
   "metadata": {
    "colab": {
     "base_uri": "https://localhost:8080/"
    },
    "executionInfo": {
     "elapsed": 584,
     "status": "ok",
     "timestamp": 1650968484326,
     "user": {
      "displayName": "parand parand",
      "userId": "17014883922676788464"
     },
     "user_tz": 240
    },
    "id": "xCC4cZHwGxZr",
    "outputId": "1b27223b-6f27-4437-b337-4f379249ece0"
   },
   "outputs": [
    {
     "name": "stdout",
     "output_type": "stream",
     "text": [
      "total number of support vectors: 37\n",
      "number of support vectors for each class [6, 15, 16]\n"
     ]
    }
   ],
   "source": [
    "print('total number of support vectors:', clf.steps[1][1].n_support_.sum())\n",
    "print('number of support vectors for each class', clf.steps[1][1].n_support_.tolist())"
   ]
  },
  {
   "cell_type": "code",
   "execution_count": 24,
   "metadata": {
    "colab": {
     "base_uri": "https://localhost:8080/"
    },
    "executionInfo": {
     "elapsed": 581,
     "status": "ok",
     "timestamp": 1650968509181,
     "user": {
      "displayName": "parand parand",
      "userId": "17014883922676788464"
     },
     "user_tz": 240
    },
    "id": "OsSwDiO48Zie",
    "outputId": "c88ddef5-a881-4f12-ec8f-c151de7aa464"
   },
   "outputs": [
    {
     "name": "stdout",
     "output_type": "stream",
     "text": [
      "Alphas: [[ 0.     0.642  1.     1.     0.     0.058 -0.    -0.    -0.651 -0.242\n",
      "  -0.    -0.    -1.    -0.    -0.    -0.    -0.807 -0.    -0.    -0.\n",
      "  -0.    -0.    -0.277 -0.    -0.    -0.744 -0.    -0.    -0.    -0.047\n",
      "  -0.    -0.471 -0.562 -0.    -0.207 -0.    -0.   ]\n",
      " [ 0.122  0.946  0.947  0.288  0.003  0.     0.276  1.     1.     1.\n",
      "   1.     1.     0.     1.     1.     0.455  0.     1.     1.     1.\n",
      "   0.853 -1.    -1.    -1.    -1.    -1.    -1.    -1.    -1.    -0.\n",
      "  -1.    -0.    -0.801 -1.    -0.    -0.321 -0.461]]\n"
     ]
    }
   ],
   "source": [
    "print('Alphas:', clf.steps[1][1].dual_coef_.round(3))"
   ]
  },
  {
   "cell_type": "markdown",
   "metadata": {
    "id": "2__eeUkO9APP"
   },
   "source": [
    "Trying different values of C"
   ]
  },
  {
   "cell_type": "code",
   "execution_count": 25,
   "metadata": {
    "colab": {
     "base_uri": "https://localhost:8080/"
    },
    "executionInfo": {
     "elapsed": 2,
     "status": "ok",
     "timestamp": 1650968514676,
     "user": {
      "displayName": "parand parand",
      "userId": "17014883922676788464"
     },
     "user_tz": 240
    },
    "id": "gwSvJvUyWoE7",
    "outputId": "50122523-639c-46de-9f7e-aa79fbdbe2f3"
   },
   "outputs": [
    {
     "data": {
      "text/plain": [
       "(0.9809523809523809, 0.9777777777777777)"
      ]
     },
     "execution_count": 25,
     "metadata": {},
     "output_type": "execute_result"
    }
   ],
   "source": [
    "clf = make_pipeline(StandardScaler(), SVC(C = 10))\n",
    "clf.fit(X_train, y_train)\n",
    "clf.score(X_train, y_train), clf.score(X_test, y_test)"
   ]
  },
  {
   "cell_type": "markdown",
   "metadata": {
    "id": "hV6YZdC0XW84"
   },
   "source": [
    "x, y\n",
    "std = stanrdsclr .fit(x)\n",
    "x_tra = stf.transform(x)\n",
    "\n",
    "svc().fit(x_tra, y)"
   ]
  },
  {
   "cell_type": "code",
   "execution_count": 26,
   "metadata": {
    "colab": {
     "base_uri": "https://localhost:8080/"
    },
    "executionInfo": {
     "elapsed": 2,
     "status": "ok",
     "timestamp": 1650968521832,
     "user": {
      "displayName": "parand parand",
      "userId": "17014883922676788464"
     },
     "user_tz": 240
    },
    "id": "VKP1LBhN9Efj",
    "outputId": "236e6267-c1d0-46e9-88d2-beedaeb82777"
   },
   "outputs": [
    {
     "name": "stdout",
     "output_type": "stream",
     "text": [
      "              precision    recall  f1-score   support\n",
      "\n",
      "      setosa       1.00      1.00      1.00        16\n",
      "  versicolor       1.00      0.94      0.97        18\n",
      "   virginica       0.92      1.00      0.96        11\n",
      "\n",
      "    accuracy                           0.98        45\n",
      "   macro avg       0.97      0.98      0.98        45\n",
      "weighted avg       0.98      0.98      0.98        45\n",
      "\n"
     ]
    }
   ],
   "source": [
    "clf = make_pipeline(StandardScaler(), SVC(C = 10))\n",
    "clf.fit(X_train, y_train)\n",
    "y_pred = clf.predict(X_test)\n",
    "\n",
    "print(classification_report(y_test, y_pred, labels=range(len(data.target_names)), target_names=data.target_names))"
   ]
  },
  {
   "cell_type": "code",
   "execution_count": 27,
   "metadata": {
    "colab": {
     "base_uri": "https://localhost:8080/",
     "height": 296
    },
    "executionInfo": {
     "elapsed": 636,
     "status": "ok",
     "timestamp": 1650968527468,
     "user": {
      "displayName": "parand parand",
      "userId": "17014883922676788464"
     },
     "user_tz": 240
    },
    "id": "c__Y88riUIKg",
    "outputId": "297cc243-4fea-4eaf-d55c-3e0680f4bbc3"
   },
   "outputs": [
    {
     "data": {
      "text/plain": [
       "<sklearn.metrics._plot.confusion_matrix.ConfusionMatrixDisplay at 0x7f78bbe9bd60>"
      ]
     },
     "execution_count": 27,
     "metadata": {},
     "output_type": "execute_result"
    },
    {
     "data": {
      "image/png": "[encoded data removed]",
      "text/plain": [
       "<Figure size 432x288 with 2 Axes>"
      ]
     },
     "metadata": {
      "needs_background": "light"
     },
     "output_type": "display_data"
    }
   ],
   "source": [
    "y_pred = clf.predict(X_test)\n",
    "\n",
    "ConfusionMatrixDisplay.from_predictions(y_test, y_pred, labels=range(len(data.target_names)), display_labels=data.target_names)\n"
   ]
  },
  {
   "cell_type": "code",
   "execution_count": 28,
   "metadata": {
    "colab": {
     "base_uri": "https://localhost:8080/"
    },
    "executionInfo": {
     "elapsed": 2,
     "status": "ok",
     "timestamp": 1650968535401,
     "user": {
      "displayName": "parand parand",
      "userId": "17014883922676788464"
     },
     "user_tz": 240
    },
    "id": "YzcZPOZt9HjD",
    "outputId": "387a3ad9-2c50-4544-bd00-710b1cbf307e"
   },
   "outputs": [
    {
     "name": "stdout",
     "output_type": "stream",
     "text": [
      "total number of support vectors: 27\n",
      "number of support vectors for each class [5, 12, 10]\n"
     ]
    }
   ],
   "source": [
    "print('total number of support vectors:', clf.steps[1][1].n_support_.sum())\n",
    "print('number of support vectors for each class', clf.steps[1][1].n_support_.tolist())"
   ]
  },
  {
   "cell_type": "code",
   "execution_count": 29,
   "metadata": {
    "colab": {
     "base_uri": "https://localhost:8080/"
    },
    "executionInfo": {
     "elapsed": 568,
     "status": "ok",
     "timestamp": 1650968542672,
     "user": {
      "displayName": "parand parand",
      "userId": "17014883922676788464"
     },
     "user_tz": 240
    },
    "id": "H3SA15Uj9K7K",
    "outputId": "91dc18d9-3436-4dc2-d0a0-dd45a1895ec0"
   },
   "outputs": [
    {
     "name": "stdout",
     "output_type": "stream",
     "text": [
      "Alphas: [[  0.      0.751   1.93    0.      1.133  -0.628  -0.537  -0.792  -0.\n",
      "   -0.877  -0.     -0.     -0.     -0.981  -0.     -0.     -0.     -0.335\n",
      "   -0.     -0.     -0.878  -0.     -0.47   -0.     -0.609  -0.666  -0.   ]\n",
      " [  0.176   0.973   1.081   0.232   0.496   0.694   0.      0.     10.\n",
      "    0.      8.056   0.499   4.544   0.     10.     10.     10.    -10.\n",
      "   -5.729 -10.     -1.493  -7.87   -0.     -8.018  -0.     -0.681 -10.   ]]\n"
     ]
    }
   ],
   "source": [
    "print('Alphas:', clf.steps[1][1].dual_coef_.round(3))"
   ]
  },
  {
   "cell_type": "code",
   "execution_count": 30,
   "metadata": {
    "colab": {
     "base_uri": "https://localhost:8080/"
    },
    "executionInfo": {
     "elapsed": 1362,
     "status": "ok",
     "timestamp": 1650968598729,
     "user": {
      "displayName": "parand parand",
      "userId": "17014883922676788464"
     },
     "user_tz": 240
    },
    "id": "Alg4lSxd9Mhu",
    "outputId": "15e88fcf-3ef0-4947-cc8e-9b99bf632d7b"
   },
   "outputs": [
    {
     "data": {
      "text/plain": [
       "GridSearchCV(cv=5,\n",
       "             estimator=Pipeline(steps=[('standardscaler', StandardScaler()),\n",
       "                                       ('svc',\n",
       "                                        SVC(class_weight='balanced',\n",
       "                                            probability=True))]),\n",
       "             n_jobs=-1,\n",
       "             param_grid={'svc__C': [1, 10], 'svc__gamma': [0.1, 1.0, 10],\n",
       "                         'svc__kernel': ['linear', 'rbf', 'poly']})"
      ]
     },
     "execution_count": 30,
     "metadata": {},
     "output_type": "execute_result"
    }
   ],
   "source": [
    "pipe = make_pipeline(StandardScaler(), SVC(class_weight='balanced', probability=True))\n",
    "\n",
    "parameters = {'svc__kernel':['linear', 'rbf', 'poly'], 'svc__C':[1, 10], 'svc__gamma': [ 0.1, 1.0, 10]}\n",
    "\n",
    "clf = GridSearchCV(pipe, parameters, n_jobs=-1, cv=5)\n",
    "clf.fit(X_train, y_train)"
   ]
  },
  {
   "cell_type": "code",
   "execution_count": 31,
   "metadata": {
    "colab": {
     "base_uri": "https://localhost:8080/"
    },
    "executionInfo": {
     "elapsed": 623,
     "status": "ok",
     "timestamp": 1650968557429,
     "user": {
      "displayName": "parand parand",
      "userId": "17014883922676788464"
     },
     "user_tz": 240
    },
    "id": "_TlZ7KfSMyhg",
    "outputId": "0e395444-e580-4249-a863-1e3f11b05fab"
   },
   "outputs": [
    {
     "data": {
      "text/plain": [
       "SVC(C=1, class_weight='balanced', gamma=0.1, probability=True)"
      ]
     },
     "execution_count": 31,
     "metadata": {},
     "output_type": "execute_result"
    }
   ],
   "source": [
    "clf.best_estimator_.steps[1][1]"
   ]
  },
  {
   "cell_type": "code",
   "execution_count": 32,
   "metadata": {
    "colab": {
     "base_uri": "https://localhost:8080/",
     "height": 495
    },
    "executionInfo": {
     "elapsed": 4,
     "status": "ok",
     "timestamp": 1650968603018,
     "user": {
      "displayName": "parand parand",
      "userId": "17014883922676788464"
     },
     "user_tz": 240
    },
    "id": "gsXn6tQUBGPT",
    "outputId": "f6113594-93dc-42b8-ee9c-5128876b16e6"
   },
   "outputs": [
    {
     "data": {
      "text/html": [
       "<div>\n",
       "<style scoped>\n",
       "    .dataframe tbody tr th:only-of-type {\n",
       "        vertical-align: middle;\n",
       "    }\n",
       "\n",
       "    .dataframe tbody tr th {\n",
       "        vertical-align: top;\n",
       "    }\n",
       "\n",
       "    .dataframe thead th {\n",
       "        text-align: right;\n",
       "    }\n",
       "</style>\n",
       "<table border=\"1\" class=\"dataframe\">\n",
       "  <thead>\n",
       "    <tr style=\"text-align: right;\">\n",
       "      <th></th>\n",
       "      <th>rank_test_score</th>\n",
       "      <th>params</th>\n",
       "      <th>mean_test_score</th>\n",
       "      <th>mean_fit_time</th>\n",
       "    </tr>\n",
       "  </thead>\n",
       "  <tbody>\n",
       "    <tr>\n",
       "      <th>1</th>\n",
       "      <td>1</td>\n",
       "      <td>{'svc__C': 1, 'svc__gamma': 0.1, 'svc__kernel'...</td>\n",
       "      <td>96.190</td>\n",
       "      <td>0.004</td>\n",
       "    </tr>\n",
       "    <tr>\n",
       "      <th>0</th>\n",
       "      <td>2</td>\n",
       "      <td>{'svc__C': 1, 'svc__gamma': 0.1, 'svc__kernel'...</td>\n",
       "      <td>95.238</td>\n",
       "      <td>0.003</td>\n",
       "    </tr>\n",
       "    <tr>\n",
       "      <th>14</th>\n",
       "      <td>2</td>\n",
       "      <td>{'svc__C': 10, 'svc__gamma': 1.0, 'svc__kernel...</td>\n",
       "      <td>95.238</td>\n",
       "      <td>0.003</td>\n",
       "    </tr>\n",
       "    <tr>\n",
       "      <th>10</th>\n",
       "      <td>2</td>\n",
       "      <td>{'svc__C': 10, 'svc__gamma': 0.1, 'svc__kernel...</td>\n",
       "      <td>95.238</td>\n",
       "      <td>0.003</td>\n",
       "    </tr>\n",
       "    <tr>\n",
       "      <th>6</th>\n",
       "      <td>2</td>\n",
       "      <td>{'svc__C': 1, 'svc__gamma': 10, 'svc__kernel':...</td>\n",
       "      <td>95.238</td>\n",
       "      <td>0.002</td>\n",
       "    </tr>\n",
       "    <tr>\n",
       "      <th>8</th>\n",
       "      <td>2</td>\n",
       "      <td>{'svc__C': 1, 'svc__gamma': 10, 'svc__kernel':...</td>\n",
       "      <td>95.238</td>\n",
       "      <td>0.003</td>\n",
       "    </tr>\n",
       "    <tr>\n",
       "      <th>3</th>\n",
       "      <td>2</td>\n",
       "      <td>{'svc__C': 1, 'svc__gamma': 1.0, 'svc__kernel'...</td>\n",
       "      <td>95.238</td>\n",
       "      <td>0.003</td>\n",
       "    </tr>\n",
       "    <tr>\n",
       "      <th>17</th>\n",
       "      <td>2</td>\n",
       "      <td>{'svc__C': 10, 'svc__gamma': 10, 'svc__kernel'...</td>\n",
       "      <td>95.238</td>\n",
       "      <td>0.002</td>\n",
       "    </tr>\n",
       "    <tr>\n",
       "      <th>4</th>\n",
       "      <td>9</td>\n",
       "      <td>{'svc__C': 1, 'svc__gamma': 1.0, 'svc__kernel'...</td>\n",
       "      <td>93.333</td>\n",
       "      <td>0.005</td>\n",
       "    </tr>\n",
       "    <tr>\n",
       "      <th>9</th>\n",
       "      <td>9</td>\n",
       "      <td>{'svc__C': 10, 'svc__gamma': 0.1, 'svc__kernel...</td>\n",
       "      <td>93.333</td>\n",
       "      <td>0.002</td>\n",
       "    </tr>\n",
       "    <tr>\n",
       "      <th>12</th>\n",
       "      <td>9</td>\n",
       "      <td>{'svc__C': 10, 'svc__gamma': 1.0, 'svc__kernel...</td>\n",
       "      <td>93.333</td>\n",
       "      <td>0.005</td>\n",
       "    </tr>\n",
       "    <tr>\n",
       "      <th>15</th>\n",
       "      <td>9</td>\n",
       "      <td>{'svc__C': 10, 'svc__gamma': 10, 'svc__kernel'...</td>\n",
       "      <td>93.333</td>\n",
       "      <td>0.003</td>\n",
       "    </tr>\n",
       "    <tr>\n",
       "      <th>5</th>\n",
       "      <td>13</td>\n",
       "      <td>{'svc__C': 1, 'svc__gamma': 1.0, 'svc__kernel'...</td>\n",
       "      <td>92.381</td>\n",
       "      <td>0.003</td>\n",
       "    </tr>\n",
       "    <tr>\n",
       "      <th>13</th>\n",
       "      <td>14</td>\n",
       "      <td>{'svc__C': 10, 'svc__gamma': 1.0, 'svc__kernel...</td>\n",
       "      <td>91.429</td>\n",
       "      <td>0.004</td>\n",
       "    </tr>\n",
       "    <tr>\n",
       "      <th>11</th>\n",
       "      <td>15</td>\n",
       "      <td>{'svc__C': 10, 'svc__gamma': 0.1, 'svc__kernel...</td>\n",
       "      <td>86.667</td>\n",
       "      <td>0.003</td>\n",
       "    </tr>\n",
       "    <tr>\n",
       "      <th>7</th>\n",
       "      <td>16</td>\n",
       "      <td>{'svc__C': 1, 'svc__gamma': 10, 'svc__kernel':...</td>\n",
       "      <td>84.762</td>\n",
       "      <td>0.006</td>\n",
       "    </tr>\n",
       "    <tr>\n",
       "      <th>16</th>\n",
       "      <td>16</td>\n",
       "      <td>{'svc__C': 10, 'svc__gamma': 10, 'svc__kernel'...</td>\n",
       "      <td>84.762</td>\n",
       "      <td>0.005</td>\n",
       "    </tr>\n",
       "    <tr>\n",
       "      <th>2</th>\n",
       "      <td>18</td>\n",
       "      <td>{'svc__C': 1, 'svc__gamma': 0.1, 'svc__kernel'...</td>\n",
       "      <td>74.286</td>\n",
       "      <td>0.004</td>\n",
       "    </tr>\n",
       "  </tbody>\n",
       "</table>\n",
       "</div>"
      ],
      "text/plain": [
       "    rank_test_score                                             params  \\\n",
       "1                 1  {'svc__C': 1, 'svc__gamma': 0.1, 'svc__kernel'...   \n",
       "0                 2  {'svc__C': 1, 'svc__gamma': 0.1, 'svc__kernel'...   \n",
       "14                2  {'svc__C': 10, 'svc__gamma': 1.0, 'svc__kernel...   \n",
       "10                2  {'svc__C': 10, 'svc__gamma': 0.1, 'svc__kernel...   \n",
       "6                 2  {'svc__C': 1, 'svc__gamma': 10, 'svc__kernel':...   \n",
       "8                 2  {'svc__C': 1, 'svc__gamma': 10, 'svc__kernel':...   \n",
       "3                 2  {'svc__C': 1, 'svc__gamma': 1.0, 'svc__kernel'...   \n",
       "17                2  {'svc__C': 10, 'svc__gamma': 10, 'svc__kernel'...   \n",
       "4                 9  {'svc__C': 1, 'svc__gamma': 1.0, 'svc__kernel'...   \n",
       "9                 9  {'svc__C': 10, 'svc__gamma': 0.1, 'svc__kernel...   \n",
       "12                9  {'svc__C': 10, 'svc__gamma': 1.0, 'svc__kernel...   \n",
       "15                9  {'svc__C': 10, 'svc__gamma': 10, 'svc__kernel'...   \n",
       "5                13  {'svc__C': 1, 'svc__gamma': 1.0, 'svc__kernel'...   \n",
       "13               14  {'svc__C': 10, 'svc__gamma': 1.0, 'svc__kernel...   \n",
       "11               15  {'svc__C': 10, 'svc__gamma': 0.1, 'svc__kernel...   \n",
       "7                16  {'svc__C': 1, 'svc__gamma': 10, 'svc__kernel':...   \n",
       "16               16  {'svc__C': 10, 'svc__gamma': 10, 'svc__kernel'...   \n",
       "2                18  {'svc__C': 1, 'svc__gamma': 0.1, 'svc__kernel'...   \n",
       "\n",
       "    mean_test_score  mean_fit_time  \n",
       "1            96.190          0.004  \n",
       "0            95.238          0.003  \n",
       "14           95.238          0.003  \n",
       "10           95.238          0.003  \n",
       "6            95.238          0.002  \n",
       "8            95.238          0.003  \n",
       "3            95.238          0.003  \n",
       "17           95.238          0.002  \n",
       "4            93.333          0.005  \n",
       "9            93.333          0.002  \n",
       "12           93.333          0.005  \n",
       "15           93.333          0.003  \n",
       "5            92.381          0.003  \n",
       "13           91.429          0.004  \n",
       "11           86.667          0.003  \n",
       "7            84.762          0.006  \n",
       "16           84.762          0.005  \n",
       "2            74.286          0.004  "
      ]
     },
     "execution_count": 32,
     "metadata": {},
     "output_type": "execute_result"
    }
   ],
   "source": [
    "results = clf.cv_results_\n",
    "df = pd.DataFrame(results)\n",
    "\n",
    "df.mean_test_score = df.mean_test_score.round(5) * 100\n",
    "df.mean_fit_time = df.mean_fit_time.round(3)\n",
    "df.params.str.replace('svc__', '')\n",
    "\n",
    "df = df[[\n",
    "    'rank_test_score', 'params', 'mean_test_score', 'mean_fit_time'\n",
    "]]\n",
    "df.sort_values('rank_test_score',inplace=True)\n",
    "df"
   ]
  },
  {
   "cell_type": "code",
   "execution_count": 33,
   "metadata": {
    "colab": {
     "base_uri": "https://localhost:8080/"
    },
    "executionInfo": {
     "elapsed": 16,
     "status": "ok",
     "timestamp": 1650788778698,
     "user": {
      "displayName": "Alireza Afzal Aghaei",
      "userId": "09957512466846387524"
     },
     "user_tz": -270
    },
    "id": "XoJcFl_crUTt",
    "outputId": "739c88de-471d-4987-8c3e-086743aeb1b4"
   },
   "outputs": [
    {
     "data": {
      "text/plain": [
       "SVC(C=1, class_weight='balanced', gamma=0.1, probability=True)"
      ]
     },
     "execution_count": 33,
     "metadata": {},
     "output_type": "execute_result"
    }
   ],
   "source": [
    "clf.best_estimator_.steps[1][1]"
   ]
  },
  {
   "cell_type": "code",
   "execution_count": 34,
   "metadata": {
    "colab": {
     "base_uri": "https://localhost:8080/",
     "height": 296
    },
    "executionInfo": {
     "elapsed": 629,
     "status": "ok",
     "timestamp": 1650968629804,
     "user": {
      "displayName": "parand parand",
      "userId": "17014883922676788464"
     },
     "user_tz": 240
    },
    "id": "fjpbVjxfM0PH",
    "outputId": "ee2d940b-bfd7-452f-e25b-b93c151ec585"
   },
   "outputs": [
    {
     "data": {
      "text/plain": [
       "<sklearn.metrics._plot.confusion_matrix.ConfusionMatrixDisplay at 0x7f78bbe953d0>"
      ]
     },
     "execution_count": 34,
     "metadata": {},
     "output_type": "execute_result"
    },
    {
     "data": {
      "image/png": "[encoded data removed]",
      "text/plain": [
       "<Figure size 432x288 with 2 Axes>"
      ]
     },
     "metadata": {
      "needs_background": "light"
     },
     "output_type": "display_data"
    }
   ],
   "source": [
    "ConfusionMatrixDisplay.from_predictions(y_test, y_pred, labels=range(len(data.target_names)), display_labels=data.target_names)"
   ]
  },
  {
   "cell_type": "code",
   "execution_count": 35,
   "metadata": {
    "colab": {
     "base_uri": "https://localhost:8080/"
    },
    "executionInfo": {
     "elapsed": 566,
     "status": "ok",
     "timestamp": 1650968647739,
     "user": {
      "displayName": "parand parand",
      "userId": "17014883922676788464"
     },
     "user_tz": 240
    },
    "id": "bTEkHYYGPVFl",
    "outputId": "d02664ba-2e07-442d-f93b-8e6c5261869a"
   },
   "outputs": [
    {
     "name": "stdout",
     "output_type": "stream",
     "text": [
      "total number of support vectors: 47\n",
      "number of support vectors for each class [5, 22, 20]\n"
     ]
    }
   ],
   "source": [
    "print('total number of support vectors:', clf.best_estimator_.steps[1][1].n_support_.sum())\n",
    "print('number of support vectors for each class', clf.best_estimator_.steps[1][1].n_support_.tolist())"
   ]
  },
  {
   "cell_type": "code",
   "execution_count": 36,
   "metadata": {
    "colab": {
     "base_uri": "https://localhost:8080/"
    },
    "executionInfo": {
     "elapsed": 598,
     "status": "ok",
     "timestamp": 1650968653484,
     "user": {
      "displayName": "parand parand",
      "userId": "17014883922676788464"
     },
     "user_tz": 240
    },
    "id": "ZgVP4AxcPJkO",
    "outputId": "8bae59b0-da84-40ba-9d7b-1160ff72fce6"
   },
   "outputs": [
    {
     "name": "stdout",
     "output_type": "stream",
     "text": [
      "Alphas: [[ 0.6   1.03  0.41  1.03  1.03 -0.26 -0.   -0.04 -1.09 -0.   -0.31 -0.\n",
      "  -0.   -0.   -1.09 -0.   -0.   -0.   -0.   -1.09 -0.   -0.21 -0.   -0.\n",
      "  -0.   -0.   -0.   -0.   -0.49 -0.   -0.   -0.   -0.9  -0.   -0.   -0.\n",
      "  -0.   -0.   -0.   -0.   -0.   -0.   -0.   -0.83 -0.49 -0.   -0.  ]\n",
      " [ 0.76  1.03  0.    0.91  0.    0.03  1.09  1.09  1.09  0.3   0.    1.09\n",
      "   1.09  1.09  0.    1.09  1.09  1.09  1.09  0.    1.09  0.    1.09  1.09\n",
      "   1.09  1.09  1.09 -0.9  -0.9  -0.9  -0.9  -0.9  -0.9  -0.9  -0.9  -0.9\n",
      "  -0.9  -0.9  -0.9  -0.9  -0.78 -0.9  -0.9  -0.9  -0.9  -0.9  -0.9 ]]\n"
     ]
    }
   ],
   "source": [
    "print('Alphas:', clf.best_estimator_.steps[1][1].dual_coef_.round(2))"
   ]
  }
 ],
 "metadata": {
  "colab": {
   "collapsed_sections": [],
   "name": "SVM-Simple boston.ipynb",
   "provenance": [
    {
     "file_id": "1SQTYX1QJA4d1G1LSYCMioKDV4vRUTkjW",
     "timestamp": 1650969082012
    }
   ]
  },
  "kernelspec": {
   "display_name": "Python 3 (ipykernel)",
   "language": "python",
   "name": "python3"
  },
  "language_info": {
   "codemirror_mode": {
    "name": "ipython",
    "version": 3
   },
   "file_extension": ".py",
   "mimetype": "text/x-python",
   "name": "python",
   "nbconvert_exporter": "python",
   "pygments_lexer": "ipython3",
   "version": "3.8.13"
  }
 },
 "nbformat": 4,
 "nbformat_minor": 4
}
