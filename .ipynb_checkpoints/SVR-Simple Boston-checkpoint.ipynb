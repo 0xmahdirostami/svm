{
 "cells": [
  {
   "cell_type": "markdown",
   "metadata": {
    "id": "cfiJP5uExxRw"
   },
   "source": [
    "Importing necessary packages."
   ]
  },
  {
   "cell_type": "code",
   "execution_count": 43,
   "metadata": {
    "executionInfo": {
     "elapsed": 1819,
     "status": "ok",
     "timestamp": 1650969148252,
     "user": {
      "displayName": "Mahdi Rostami",
      "userId": "07920215040166358053"
     },
     "user_tz": -270
    },
    "id": "JmYf_mAtBnWe"
   },
   "outputs": [],
   "source": [
    "import numpy as np\n",
    "import pandas as pd\n",
    "from sklearn.svm import SVR\n",
    "from sklearn.pipeline import make_pipeline\n",
    "from sklearn.datasets import load_breast_cancer, load_iris, load_boston\n",
    "from sklearn.preprocessing import StandardScaler, MinMaxScaler\n",
    "from sklearn.model_selection import GridSearchCV, train_test_split\n",
    "from sklearn.metrics import classification_report, confusion_matrix, ConfusionMatrixDisplay"
   ]
  },
  {
   "cell_type": "code",
   "execution_count": 39,
   "metadata": {
    "colab": {
     "base_uri": "https://localhost:8080/"
    },
    "executionInfo": {
     "elapsed": 20,
     "status": "ok",
     "timestamp": 1650969148721,
     "user": {
      "displayName": "Mahdi Rostami",
      "userId": "07920215040166358053"
     },
     "user_tz": -270
    },
    "id": "u19F7_oIB-tI",
    "outputId": "5abbbd6e-cd85-4d2a-d228-05efd6ff3743"
   },
   "outputs": [
    {
     "data": {
      "text/plain": [
       "((506, 13), (506,))"
      ]
     },
     "execution_count": 39,
     "metadata": {},
     "output_type": "execute_result"
    }
   ],
   "source": [
    "data = load_boston()\n",
    "X = data.data\n",
    "y = data.target\n",
    "X.shape, y.shape"
   ]
  },
  {
   "cell_type": "markdown",
   "metadata": {
    "id": "5uybsMbXx33G"
   },
   "source": [
    "Split the data into train and test chunks"
   ]
  },
  {
   "cell_type": "code",
   "execution_count": 42,
   "metadata": {
    "colab": {
     "base_uri": "https://localhost:8080/"
    },
    "executionInfo": {
     "elapsed": 415,
     "status": "ok",
     "timestamp": 1650969182158,
     "user": {
      "displayName": "Mahdi Rostami",
      "userId": "07920215040166358053"
     },
     "user_tz": -270
    },
    "id": "Jgiq36lvCNV5",
    "outputId": "8040ffea-e614-4f76-ffda-5306f8a62086"
   },
   "outputs": [
    {
     "data": {
      "text/plain": [
       "((354, 13), (152, 13))"
      ]
     },
     "execution_count": 42,
     "metadata": {},
     "output_type": "execute_result"
    }
   ],
   "source": [
    "X_train, X_test, y_train, y_test = train_test_split(X, y, test_size = 0.3, random_state=0)\n",
    "\n",
    "X_train.shape, X_test.shape"
   ]
  },
  {
   "cell_type": "markdown",
   "metadata": {
    "id": "tVugtbWUx73-"
   },
   "source": [
    "train (fit) and SVC model (**Support Vector Classification**)"
   ]
  },
  {
   "cell_type": "code",
   "execution_count": 44,
   "metadata": {
    "colab": {
     "base_uri": "https://localhost:8080/",
     "height": 329
    },
    "executionInfo": {
     "elapsed": 9,
     "status": "error",
     "timestamp": 1650969183647,
     "user": {
      "displayName": "Mahdi Rostami",
      "userId": "07920215040166358053"
     },
     "user_tz": -270
    },
    "id": "WyVGXIdoxocF",
    "outputId": "feeb5573-7807-4f6b-b09d-0aee5c95bbdd"
   },
   "outputs": [
    {
     "data": {
      "text/plain": [
       "SVR(C=1)"
      ]
     },
     "execution_count": 44,
     "metadata": {},
     "output_type": "execute_result"
    }
   ],
   "source": [
    "clf = SVR(C = 1)\n",
    "clf.fit(X_train, y_train)"
   ]
  },
  {
   "cell_type": "markdown",
   "metadata": {
    "id": "DCNyaGhOyJoe"
   },
   "source": [
    "Predict the test data and calculate the binary classification metrics"
   ]
  },
  {
   "cell_type": "code",
   "execution_count": 48,
   "metadata": {
    "colab": {
     "base_uri": "https://localhost:8080/",
     "height": 296
    },
    "executionInfo": {
     "elapsed": 5,
     "status": "ok",
     "timestamp": 1650968329794,
     "user": {
      "displayName": "parand parand",
      "userId": "17014883922676788464"
     },
     "user_tz": 240
    },
    "id": "0DXrD1NZxoUj",
    "outputId": "bfc6c5c5-43e1-4218-d43f-4d38e03f67da"
   },
   "outputs": [],
   "source": [
    "y_pred = clf.predict(X_test)"
   ]
  },
  {
   "cell_type": "code",
   "execution_count": 51,
   "metadata": {},
   "outputs": [
    {
     "data": {
      "text/plain": [
       "(0.21624037461916024, 1.0)"
      ]
     },
     "execution_count": 51,
     "metadata": {},
     "output_type": "execute_result"
    }
   ],
   "source": [
    "clf.score(X_train, y_train), clf.score(X_test, y_pred)"
   ]
  },
  {
   "cell_type": "code",
   "execution_count": 53,
   "metadata": {
    "colab": {
     "base_uri": "https://localhost:8080/"
    },
    "executionInfo": {
     "elapsed": 575,
     "status": "ok",
     "timestamp": 1650968428922,
     "user": {
      "displayName": "parand parand",
      "userId": "17014883922676788464"
     },
     "user_tz": 240
    },
    "id": "O8nPCVlo6JEZ",
    "outputId": "d6f71690-efef-4a5f-ee66-1b124ab149d4"
   },
   "outputs": [
    {
     "name": "stdout",
     "output_type": "stream",
     "text": [
      "total number of support vectors: 340\n"
     ]
    }
   ],
   "source": [
    "print('total number of support vectors:', clf.n_support_.sum())"
   ]
  },
  {
   "cell_type": "code",
   "execution_count": 54,
   "metadata": {
    "colab": {
     "base_uri": "https://localhost:8080/"
    },
    "executionInfo": {
     "elapsed": 688,
     "status": "ok",
     "timestamp": 1650968457667,
     "user": {
      "displayName": "parand parand",
      "userId": "17014883922676788464"
     },
     "user_tz": 240
    },
    "id": "5pAt900623gY",
    "outputId": "ee27b3c3-c346-493b-effe-c656e98e9a67"
   },
   "outputs": [
    {
     "name": "stdout",
     "output_type": "stream",
     "text": [
      "Alphas: [[-1.    -1.    -1.    -1.    -1.    -1.    -1.    -1.    -1.     1.\n",
      "   1.     1.    -1.    -1.     1.     1.    -1.     1.    -1.     1.\n",
      "   1.     1.    -1.    -1.    -1.     1.    -1.    -1.    -1.    -1.\n",
      "   1.    -1.     1.     1.     1.     1.    -1.     1.     1.    -1.\n",
      "   1.     1.    -1.     1.    -1.     1.    -1.    -1.     1.     1.\n",
      "  -1.     1.     1.     1.     1.     1.     1.     1.    -1.    -1.\n",
      "  -1.    -1.    -1.     1.    -1.     1.     1.    -1.    -1.    -1.\n",
      "  -1.     1.    -1.    -1.     0.722 -1.    -1.    -1.     1.     1.\n",
      "   1.     1.     1.    -1.     1.    -1.     1.     1.    -1.     1.\n",
      "   1.     1.    -1.     1.    -1.     1.    -1.    -1.     1.    -1.\n",
      "  -1.     1.    -1.    -1.     1.     1.     1.    -1.     1.    -1.\n",
      "  -1.    -1.     1.    -1.     1.    -1.     1.     1.    -1.    -1.\n",
      "  -1.    -1.    -1.    -1.    -1.    -1.     1.    -1.     1.     1.\n",
      "   1.     1.     1.    -1.    -1.     0.216  1.    -1.     1.     1.\n",
      "   1.    -1.     1.     1.     1.    -1.    -1.     1.    -1.    -1.\n",
      "  -1.    -1.     1.     1.    -1.     1.     1.     1.    -1.    -1.\n",
      "   1.    -1.    -1.    -1.     1.     1.     1.    -1.    -1.    -1.\n",
      "   1.    -1.    -1.    -1.    -1.     1.    -1.     1.    -1.     1.\n",
      "   1.    -1.     1.    -1.     1.    -1.     1.     1.    -1.     1.\n",
      "   1.     1.     1.     1.     1.    -1.    -1.    -1.     1.    -1.\n",
      "   1.    -1.     1.    -1.    -1.    -1.    -1.    -1.    -1.    -1.\n",
      "   1.    -1.    -1.    -0.213  1.    -1.    -1.     1.     1.     1.\n",
      "   1.     1.     1.     1.     1.     1.     1.     1.    -1.     1.\n",
      "   1.     1.     1.    -1.     1.    -1.     1.    -1.    -1.    -1.\n",
      "   1.     1.    -1.    -1.    -1.     1.     1.     1.     1.    -1.\n",
      "   1.     1.     1.    -1.    -1.    -1.     1.     1.    -1.    -1.\n",
      "   1.     1.    -1.     1.     1.     1.    -1.     1.    -1.     1.\n",
      "  -1.    -1.     1.     1.     1.    -1.    -1.     1.    -1.    -1.\n",
      "   1.    -1.     1.     1.     1.     1.    -1.     1.    -1.    -1.\n",
      "  -1.     1.     1.    -1.    -1.    -0.726 -1.     1.    -1.    -1.\n",
      "  -1.     1.     1.    -1.    -1.     1.    -1.     1.     1.    -1.\n",
      "  -1.    -1.    -1.    -1.    -1.     1.    -1.    -1.     1.     1.\n",
      "   1.     1.    -1.     1.     1.     1.    -1.     1.    -1.     1.\n",
      "  -1.    -1.     1.     1.     1.    -1.     1.    -1.    -1.     1.   ]]\n"
     ]
    }
   ],
   "source": [
    "print('Alphas:', clf.dual_coef_.round(3))"
   ]
  },
  {
   "cell_type": "code",
   "execution_count": 55,
   "metadata": {
    "colab": {
     "base_uri": "https://localhost:8080/"
    },
    "executionInfo": {
     "elapsed": 587,
     "status": "ok",
     "timestamp": 1650968464939,
     "user": {
      "displayName": "parand parand",
      "userId": "17014883922676788464"
     },
     "user_tz": 240
    },
    "id": "Mu7HMUXNRrTW",
    "outputId": "f94fe531-e9ea-4c17-9bdc-9e29515f8b2e"
   },
   "outputs": [
    {
     "data": {
      "text/plain": [
       "array([19.60460096])"
      ]
     },
     "execution_count": 55,
     "metadata": {},
     "output_type": "execute_result"
    }
   ],
   "source": [
    "clf.intercept_"
   ]
  },
  {
   "cell_type": "markdown",
   "metadata": {
    "id": "gYqU3gPkyR1R"
   },
   "source": [
    "The same process after normalizing the data"
   ]
  },
  {
   "cell_type": "code",
   "execution_count": 56,
   "metadata": {
    "colab": {
     "base_uri": "https://localhost:8080/",
     "height": 296
    },
    "executionInfo": {
     "elapsed": 784,
     "status": "ok",
     "timestamp": 1650968474826,
     "user": {
      "displayName": "parand parand",
      "userId": "17014883922676788464"
     },
     "user_tz": 240
    },
    "id": "aIiTYau0FazC",
    "outputId": "a41adb97-0c34-4c2f-f003-368e8e892327"
   },
   "outputs": [
    {
     "data": {
      "text/plain": [
       "(0.6593958167363239, 1.0)"
      ]
     },
     "execution_count": 56,
     "metadata": {},
     "output_type": "execute_result"
    }
   ],
   "source": [
    "clf = make_pipeline(MinMaxScaler(), SVR(C = 1))\n",
    "clf.fit(X_train, y_train)\n",
    "y_pred = clf.predict(X_test)\n",
    "\n",
    "clf.score(X_train, y_train), clf.score(X_test, y_pred)"
   ]
  },
  {
   "cell_type": "code",
   "execution_count": 57,
   "metadata": {
    "colab": {
     "base_uri": "https://localhost:8080/"
    },
    "executionInfo": {
     "elapsed": 584,
     "status": "ok",
     "timestamp": 1650968484326,
     "user": {
      "displayName": "parand parand",
      "userId": "17014883922676788464"
     },
     "user_tz": 240
    },
    "id": "xCC4cZHwGxZr",
    "outputId": "1b27223b-6f27-4437-b337-4f379249ece0"
   },
   "outputs": [
    {
     "name": "stdout",
     "output_type": "stream",
     "text": [
      "total number of support vectors: 343\n"
     ]
    }
   ],
   "source": [
    "print('total number of support vectors:', clf.steps[1][1].n_support_.sum())"
   ]
  },
  {
   "cell_type": "code",
   "execution_count": 58,
   "metadata": {
    "colab": {
     "base_uri": "https://localhost:8080/"
    },
    "executionInfo": {
     "elapsed": 581,
     "status": "ok",
     "timestamp": 1650968509181,
     "user": {
      "displayName": "parand parand",
      "userId": "17014883922676788464"
     },
     "user_tz": 240
    },
    "id": "OsSwDiO48Zie",
    "outputId": "c88ddef5-a881-4f12-ec8f-c151de7aa464"
   },
   "outputs": [
    {
     "name": "stdout",
     "output_type": "stream",
     "text": [
      "Alphas: [[ 1.    -1.     1.    -1.     1.    -1.    -1.    -1.    -1.    -1.\n",
      "   1.     1.     1.     1.    -1.    -1.     1.    -1.    -1.    -1.\n",
      "   1.     1.     1.    -1.    -1.     1.     1.    -1.    -1.    -1.\n",
      "  -1.     1.     1.     1.    -1.     1.     1.    -1.     1.     1.\n",
      "  -1.     1.    -1.    -1.     1.    -1.     1.    -1.     1.     1.\n",
      "   1.    -1.     1.    -0.433  1.     1.    -1.    -1.    -1.    -1.\n",
      "  -1.    -1.     1.    -1.     1.     1.    -0.731 -1.    -1.     1.\n",
      "  -1.    -1.    -1.     1.    -1.    -1.    -1.     1.    -1.     1.\n",
      "   1.     1.     1.    -0.329 -1.    -1.     1.     1.     1.     0.808\n",
      "   1.    -1.     1.    -1.     1.    -1.    -1.     1.     1.    -1.\n",
      "   1.    -1.    -1.     1.    -1.    -1.    -1.    -1.    -1.    -1.\n",
      "   1.     1.    -1.    -1.     1.    -1.     1.     1.    -1.    -1.\n",
      "  -1.    -1.     1.    -1.    -1.    -1.     1.    -1.     1.     1.\n",
      "   1.     1.    -0.51  -1.    -1.    -1.     1.    -1.    -1.     1.\n",
      "   1.    -1.     1.     1.     1.    -1.    -1.     0.412  1.    -1.\n",
      "  -1.    -1.     1.     1.    -1.     1.     1.     1.    -1.    -1.\n",
      "   1.    -1.     1.    -1.     1.     1.     1.     1.     1.     1.\n",
      "  -1.     1.    -1.    -1.    -1.    -1.     1.    -1.     1.    -1.\n",
      "   1.     1.     1.     1.    -1.    -1.     1.    -1.     1.     1.\n",
      "  -1.     1.     1.     1.     1.     1.     1.    -1.    -1.     1.\n",
      "   1.    -1.     1.     1.     1.    -1.    -1.     1.    -1.    -1.\n",
      "  -1.    -0.092  1.    -1.    -1.     1.     1.    -1.    -1.    -1.\n",
      "  -1.     1.    -1.     1.     1.     1.     1.     1.     1.     1.\n",
      "  -1.     1.     1.     1.    -1.    -1.     1.    -1.     1.     1.\n",
      "  -1.     1.     1.     1.     1.    -1.    -1.     1.    -1.     1.\n",
      "   1.    -1.     1.     1.     1.    -1.    -1.    -1.     1.     1.\n",
      "  -1.    -1.     1.    -1.     1.     1.     1.    -1.    -1.     1.\n",
      "  -1.    -0.567  1.     1.    -1.     1.     1.    -1.     1.    -1.\n",
      "  -1.     1.     1.     0.914 -1.     1.     1.     1.    -0.525 -1.\n",
      "   1.    -1.    -1.    -0.22   1.    -1.    -1.     1.    -1.     1.\n",
      "  -1.    -1.    -1.    -1.     1.    -1.    -1.     0.351 -1.     1.\n",
      "  -1.     1.    -1.    -1.    -1.    -1.    -1.    -1.     1.    -1.\n",
      "  -1.    -1.     1.     1.     1.     1.    -1.    -1.     1.     0.921\n",
      "  -1.     1.    -1.     1.    -1.    -1.     1.     1.    -1.     1.\n",
      "  -1.    -1.     1.   ]]\n"
     ]
    }
   ],
   "source": [
    "print('Alphas:', clf.steps[1][1].dual_coef_.round(3))"
   ]
  },
  {
   "cell_type": "markdown",
   "metadata": {
    "id": "2__eeUkO9APP"
   },
   "source": [
    "Trying different values of C"
   ]
  },
  {
   "cell_type": "code",
   "execution_count": 61,
   "metadata": {
    "colab": {
     "base_uri": "https://localhost:8080/"
    },
    "executionInfo": {
     "elapsed": 2,
     "status": "ok",
     "timestamp": 1650968514676,
     "user": {
      "displayName": "parand parand",
      "userId": "17014883922676788464"
     },
     "user_tz": 240
    },
    "id": "gwSvJvUyWoE7",
    "outputId": "50122523-639c-46de-9f7e-aa79fbdbe2f3"
   },
   "outputs": [
    {
     "data": {
      "text/plain": [
       "(0.8591046590281795, 0.7234870488484579)"
      ]
     },
     "execution_count": 61,
     "metadata": {},
     "output_type": "execute_result"
    }
   ],
   "source": [
    "clf = make_pipeline(MinMaxScaler(), SVR(C = 10))\n",
    "clf.fit(X_train, y_train)\n",
    "y_pred = clf.predict(X_test)\n",
    "clf.score(X_train, y_train), clf.score(X_test, y_test)"
   ]
  },
  {
   "cell_type": "markdown",
   "metadata": {
    "id": "hV6YZdC0XW84"
   },
   "source": [
    "x, y\n",
    "std = stanrdsclr .fit(x)\n",
    "x_tra = stf.transform(x)\n",
    "\n",
    "svc().fit(x_tra, y)"
   ]
  },
  {
   "cell_type": "code",
   "execution_count": 62,
   "metadata": {
    "colab": {
     "base_uri": "https://localhost:8080/"
    },
    "executionInfo": {
     "elapsed": 2,
     "status": "ok",
     "timestamp": 1650968521832,
     "user": {
      "displayName": "parand parand",
      "userId": "17014883922676788464"
     },
     "user_tz": 240
    },
    "id": "VKP1LBhN9Efj",
    "outputId": "236e6267-c1d0-46e9-88d2-beedaeb82777"
   },
   "outputs": [
    {
     "data": {
      "text/plain": [
       "(0.9089609024052957, 0.7423210756410796)"
      ]
     },
     "execution_count": 62,
     "metadata": {},
     "output_type": "execute_result"
    }
   ],
   "source": [
    "clf = make_pipeline(StandardScaler(), SVR(C = 10))\n",
    "clf.fit(X_train, y_train)\n",
    "y_pred = clf.predict(X_test)\n",
    "clf.score(X_train, y_train), clf.score(X_test, y_test)"
   ]
  },
  {
   "cell_type": "code",
   "execution_count": 64,
   "metadata": {
    "colab": {
     "base_uri": "https://localhost:8080/"
    },
    "executionInfo": {
     "elapsed": 2,
     "status": "ok",
     "timestamp": 1650968535401,
     "user": {
      "displayName": "parand parand",
      "userId": "17014883922676788464"
     },
     "user_tz": 240
    },
    "id": "YzcZPOZt9HjD",
    "outputId": "387a3ad9-2c50-4544-bd00-710b1cbf307e"
   },
   "outputs": [
    {
     "name": "stdout",
     "output_type": "stream",
     "text": [
      "total number of support vectors: 330\n"
     ]
    }
   ],
   "source": [
    "print('total number of support vectors:', clf.steps[1][1].n_support_.sum())"
   ]
  },
  {
   "cell_type": "code",
   "execution_count": 65,
   "metadata": {
    "colab": {
     "base_uri": "https://localhost:8080/"
    },
    "collapsed": true,
    "executionInfo": {
     "elapsed": 568,
     "status": "ok",
     "timestamp": 1650968542672,
     "user": {
      "displayName": "parand parand",
      "userId": "17014883922676788464"
     },
     "user_tz": 240
    },
    "id": "H3SA15Uj9K7K",
    "jupyter": {
     "outputs_hidden": true
    },
    "outputId": "91dc18d9-3436-4dc2-d0a0-dd45a1895ec0",
    "tags": []
   },
   "outputs": [
    {
     "name": "stdout",
     "output_type": "stream",
     "text": [
      "Alphas: [[ 1.000e+01 -1.000e+01  1.000e+01 -1.000e+01  1.000e+01 -1.000e+01\n",
      "  -1.000e+01 -1.000e+01 -1.000e+01  1.000e+01 -1.000e+01  1.000e+01\n",
      "   1.000e+01 -1.000e+01  3.876e+00  1.000e+01 -1.000e+01  4.692e+00\n",
      "  -1.000e+01 -1.000e+01 -1.000e+01 -1.000e+01  1.000e+01  1.000e+01\n",
      "  -1.325e+00 -1.000e+01 -5.531e+00 -1.000e+01  8.109e+00  1.000e+01\n",
      "  -9.515e+00 -2.981e+00 -1.000e+01  1.000e+01  1.000e+01  1.000e+01\n",
      "  -1.000e+01 -1.000e+01 -1.000e+01  1.000e+01 -1.000e+01 -5.578e+00\n",
      "  -1.000e+01  1.000e+01 -1.000e+01  8.494e+00  1.000e+01  3.487e+00\n",
      "  -1.668e+00 -1.000e+01  1.782e+00 -1.000e+01 -1.000e+01  1.000e+01\n",
      "  -1.000e+01 -1.000e+01 -1.000e+01 -7.050e-01 -1.000e+01 -1.000e+01\n",
      "  -9.176e+00  1.000e+01 -1.000e+01  1.000e+01  1.000e+01  5.043e+00\n",
      "   1.000e+01  1.882e+00  1.000e+01 -4.510e+00 -1.000e+01 -1.000e+01\n",
      "  -1.000e+01 -1.000e+01 -1.000e+01  1.000e+01  1.000e+01 -1.000e+01\n",
      "   1.000e+01  1.000e+01  1.000e+01 -1.000e+01 -1.000e+01 -1.000e+01\n",
      "   1.000e+01  1.000e+01  4.000e-03  1.000e+01 -1.000e+01 -1.000e+01\n",
      "  -9.821e+00  1.000e+01 -3.400e-02 -1.000e+01 -7.758e+00  1.000e+01\n",
      "  -1.000e+01 -1.000e+01 -6.747e+00  1.000e+01 -2.940e+00 -1.000e+01\n",
      "  -1.000e+01  1.000e+01  1.000e+01  9.116e+00 -1.000e+01  1.000e+01\n",
      "   1.000e+01  1.000e+01  1.000e+01  7.782e+00 -1.000e+01 -1.000e+01\n",
      "   7.061e+00 -1.000e+01  6.987e+00  1.000e+01 -1.000e+01  4.872e+00\n",
      "   1.000e+01  1.000e+01 -1.000e+01  3.517e+00  1.000e+01  9.878e+00\n",
      "  -1.000e+01  1.000e+01  1.633e+00 -7.560e-01  1.000e+01 -1.000e+01\n",
      "  -1.000e+01  1.000e+01  1.000e+01 -1.000e+01  1.771e+00 -4.889e+00\n",
      "   1.000e+01 -4.028e+00  1.000e+01  1.000e+01  1.000e+01  1.000e+01\n",
      "  -1.000e+01 -1.000e+01  1.000e+01  1.000e+01  1.000e+01 -2.952e+00\n",
      "   1.000e+01 -2.073e+00 -1.000e+01 -7.987e+00  1.000e+01 -1.000e+01\n",
      "   1.000e+01 -1.000e+01  1.000e+01 -1.000e+01 -1.000e+01 -1.000e+01\n",
      "   1.000e+01 -8.929e+00 -1.000e+01  1.000e+01 -1.000e+01 -4.300e+00\n",
      "  -1.000e+01 -6.275e+00  1.000e+01 -1.000e+01 -1.000e+01 -3.962e+00\n",
      "   1.000e+01  1.000e+01  6.505e+00  2.355e+00 -2.930e+00 -1.000e+01\n",
      "   1.000e+01 -7.933e+00  1.275e+00 -2.051e+00 -1.000e+01  1.000e+01\n",
      "   1.000e+01  5.830e-01 -1.000e+01 -7.900e-02 -6.464e+00 -1.000e+01\n",
      "   1.000e+01 -1.957e+00 -1.000e+01 -1.000e+01  1.000e+01 -1.000e+01\n",
      "   1.000e+01  1.000e+01 -1.000e+01 -1.000e+01 -1.000e+01  5.777e+00\n",
      "  -1.000e+01 -1.000e+01 -1.000e+01  1.000e+01  1.000e+01 -1.000e+01\n",
      "  -1.000e+01  1.000e+01  1.000e+01 -1.000e+01  1.000e+01 -2.384e+00\n",
      "   1.899e+00  1.000e+01 -1.000e+01  1.000e+01  1.000e+01 -1.000e+01\n",
      "  -1.000e+01  1.000e+01  1.000e+01 -1.000e+01  1.000e+01  1.000e+01\n",
      "  -1.000e+01 -1.000e+01  1.000e+01 -1.000e+01  1.000e+01  1.000e+01\n",
      "   5.543e+00  1.000e+01  7.190e-01 -1.000e+01  1.000e+01 -1.000e+01\n",
      "   4.017e+00  1.000e+01 -1.000e+01  1.000e+01  1.000e+01  1.000e+01\n",
      "  -1.000e+01 -1.000e+01 -1.360e-01  1.000e+01  1.000e+01 -3.840e-01\n",
      "  -1.000e+01 -1.000e+01  1.000e+01  2.391e+00 -1.000e+01  4.195e+00\n",
      "   1.000e+01 -1.698e+00 -1.000e+01  1.000e+01  1.000e+01  1.000e+01\n",
      "   1.000e+01  1.000e+01  1.000e+01  9.710e-01 -7.129e+00  1.000e+01\n",
      "  -1.000e+01  1.000e+01  1.000e+01  1.000e+01 -1.000e+01 -1.000e+01\n",
      "   1.000e+01  1.000e+01  1.000e+01  1.000e+01  1.000e+01 -1.000e+01\n",
      "   1.000e+01  5.618e+00 -1.000e+01 -1.000e+01  1.000e+01 -1.000e+01\n",
      "   1.000e+01 -1.000e+01 -1.000e+01 -1.000e+01  2.150e+00 -1.000e+01\n",
      "  -1.000e+01  3.570e+00  7.806e+00 -1.000e+01 -1.000e+01  1.000e+01\n",
      "   6.320e-01  4.602e+00  2.132e+00  3.633e+00 -1.000e+01 -1.000e+01\n",
      "   1.000e+01 -1.000e+01 -1.000e+01  1.000e+01  1.000e+01 -8.777e+00\n",
      "   1.000e+01 -1.000e+01 -1.000e+01  1.000e+01 -1.000e+01 -1.000e+01\n",
      "  -1.000e+01  1.000e+01  1.000e+01 -1.000e+01  1.000e+01  1.000e+01\n",
      "   1.000e+01  1.000e+01  1.000e+01 -1.000e+01 -1.000e+01  1.000e+01]]\n"
     ]
    }
   ],
   "source": [
    "print('Alphas:', clf.steps[1][1].dual_coef_.round(3))"
   ]
  },
  {
   "cell_type": "code",
   "execution_count": 67,
   "metadata": {
    "colab": {
     "base_uri": "https://localhost:8080/"
    },
    "executionInfo": {
     "elapsed": 1362,
     "status": "ok",
     "timestamp": 1650968598729,
     "user": {
      "displayName": "parand parand",
      "userId": "17014883922676788464"
     },
     "user_tz": 240
    },
    "id": "Alg4lSxd9Mhu",
    "outputId": "15e88fcf-3ef0-4947-cc8e-9b99bf632d7b"
   },
   "outputs": [
    {
     "data": {
      "text/plain": [
       "GridSearchCV(cv=5,\n",
       "             estimator=Pipeline(steps=[('standardscaler', StandardScaler()),\n",
       "                                       ('svr', SVR())]),\n",
       "             n_jobs=-1,\n",
       "             param_grid={'svr__C': [1, 10], 'svr__gamma': [0.1, 1.0, 10],\n",
       "                         'svr__kernel': ['linear', 'rbf', 'poly']})"
      ]
     },
     "execution_count": 67,
     "metadata": {},
     "output_type": "execute_result"
    }
   ],
   "source": [
    "pipe = make_pipeline(StandardScaler(), SVR())\n",
    "\n",
    "parameters = {'svr__kernel':['linear', 'rbf', 'poly'], 'svr__C':[1, 10], 'svr__gamma': [ 0.1, 1.0, 10]}\n",
    "\n",
    "clf = GridSearchCV(pipe, parameters, n_jobs=-1, cv=5)\n",
    "clf.fit(X_train, y_train)"
   ]
  },
  {
   "cell_type": "code",
   "execution_count": 68,
   "metadata": {
    "colab": {
     "base_uri": "https://localhost:8080/"
    },
    "executionInfo": {
     "elapsed": 623,
     "status": "ok",
     "timestamp": 1650968557429,
     "user": {
      "displayName": "parand parand",
      "userId": "17014883922676788464"
     },
     "user_tz": 240
    },
    "id": "_TlZ7KfSMyhg",
    "outputId": "0e395444-e580-4249-a863-1e3f11b05fab"
   },
   "outputs": [
    {
     "data": {
      "text/plain": [
       "SVR(C=10, gamma=0.1)"
      ]
     },
     "execution_count": 68,
     "metadata": {},
     "output_type": "execute_result"
    }
   ],
   "source": [
    "clf.best_estimator_.steps[1][1]"
   ]
  },
  {
   "cell_type": "code",
   "execution_count": 69,
   "metadata": {
    "colab": {
     "base_uri": "https://localhost:8080/",
     "height": 495
    },
    "executionInfo": {
     "elapsed": 4,
     "status": "ok",
     "timestamp": 1650968603018,
     "user": {
      "displayName": "parand parand",
      "userId": "17014883922676788464"
     },
     "user_tz": 240
    },
    "id": "gsXn6tQUBGPT",
    "outputId": "f6113594-93dc-42b8-ee9c-5128876b16e6"
   },
   "outputs": [
    {
     "data": {
      "text/html": [
       "<div>\n",
       "<style scoped>\n",
       "    .dataframe tbody tr th:only-of-type {\n",
       "        vertical-align: middle;\n",
       "    }\n",
       "\n",
       "    .dataframe tbody tr th {\n",
       "        vertical-align: top;\n",
       "    }\n",
       "\n",
       "    .dataframe thead th {\n",
       "        text-align: right;\n",
       "    }\n",
       "</style>\n",
       "<table border=\"1\" class=\"dataframe\">\n",
       "  <thead>\n",
       "    <tr style=\"text-align: right;\">\n",
       "      <th></th>\n",
       "      <th>rank_test_score</th>\n",
       "      <th>params</th>\n",
       "      <th>mean_test_score</th>\n",
       "      <th>mean_fit_time</th>\n",
       "    </tr>\n",
       "  </thead>\n",
       "  <tbody>\n",
       "    <tr>\n",
       "      <th>10</th>\n",
       "      <td>1</td>\n",
       "      <td>{'svr__C': 10, 'svr__gamma': 0.1, 'svr__kernel...</td>\n",
       "      <td>81.489</td>\n",
       "      <td>0.011</td>\n",
       "    </tr>\n",
       "    <tr>\n",
       "      <th>9</th>\n",
       "      <td>2</td>\n",
       "      <td>{'svr__C': 10, 'svr__gamma': 0.1, 'svr__kernel...</td>\n",
       "      <td>72.319</td>\n",
       "      <td>0.030</td>\n",
       "    </tr>\n",
       "    <tr>\n",
       "      <th>12</th>\n",
       "      <td>2</td>\n",
       "      <td>{'svr__C': 10, 'svr__gamma': 1.0, 'svr__kernel...</td>\n",
       "      <td>72.319</td>\n",
       "      <td>0.028</td>\n",
       "    </tr>\n",
       "    <tr>\n",
       "      <th>15</th>\n",
       "      <td>2</td>\n",
       "      <td>{'svr__C': 10, 'svr__gamma': 10, 'svr__kernel'...</td>\n",
       "      <td>72.319</td>\n",
       "      <td>0.028</td>\n",
       "    </tr>\n",
       "    <tr>\n",
       "      <th>0</th>\n",
       "      <td>5</td>\n",
       "      <td>{'svr__C': 1, 'svr__gamma': 0.1, 'svr__kernel'...</td>\n",
       "      <td>72.279</td>\n",
       "      <td>0.009</td>\n",
       "    </tr>\n",
       "    <tr>\n",
       "      <th>3</th>\n",
       "      <td>5</td>\n",
       "      <td>{'svr__C': 1, 'svr__gamma': 1.0, 'svr__kernel'...</td>\n",
       "      <td>72.279</td>\n",
       "      <td>0.009</td>\n",
       "    </tr>\n",
       "    <tr>\n",
       "      <th>6</th>\n",
       "      <td>5</td>\n",
       "      <td>{'svr__C': 1, 'svr__gamma': 10, 'svr__kernel':...</td>\n",
       "      <td>72.279</td>\n",
       "      <td>0.009</td>\n",
       "    </tr>\n",
       "    <tr>\n",
       "      <th>1</th>\n",
       "      <td>8</td>\n",
       "      <td>{'svr__C': 1, 'svr__gamma': 0.1, 'svr__kernel'...</td>\n",
       "      <td>62.795</td>\n",
       "      <td>0.007</td>\n",
       "    </tr>\n",
       "    <tr>\n",
       "      <th>13</th>\n",
       "      <td>9</td>\n",
       "      <td>{'svr__C': 10, 'svr__gamma': 1.0, 'svr__kernel...</td>\n",
       "      <td>52.947</td>\n",
       "      <td>0.010</td>\n",
       "    </tr>\n",
       "    <tr>\n",
       "      <th>2</th>\n",
       "      <td>10</td>\n",
       "      <td>{'svr__C': 1, 'svr__gamma': 0.1, 'svr__kernel'...</td>\n",
       "      <td>20.186</td>\n",
       "      <td>0.008</td>\n",
       "    </tr>\n",
       "    <tr>\n",
       "      <th>4</th>\n",
       "      <td>11</td>\n",
       "      <td>{'svr__C': 1, 'svr__gamma': 1.0, 'svr__kernel'...</td>\n",
       "      <td>17.528</td>\n",
       "      <td>0.006</td>\n",
       "    </tr>\n",
       "    <tr>\n",
       "      <th>16</th>\n",
       "      <td>12</td>\n",
       "      <td>{'svr__C': 10, 'svr__gamma': 10, 'svr__kernel'...</td>\n",
       "      <td>5.792</td>\n",
       "      <td>0.011</td>\n",
       "    </tr>\n",
       "    <tr>\n",
       "      <th>7</th>\n",
       "      <td>13</td>\n",
       "      <td>{'svr__C': 1, 'svr__gamma': 10, 'svr__kernel':...</td>\n",
       "      <td>-1.526</td>\n",
       "      <td>0.007</td>\n",
       "    </tr>\n",
       "    <tr>\n",
       "      <th>11</th>\n",
       "      <td>14</td>\n",
       "      <td>{'svr__C': 10, 'svr__gamma': 0.1, 'svr__kernel...</td>\n",
       "      <td>-535.446</td>\n",
       "      <td>0.018</td>\n",
       "    </tr>\n",
       "    <tr>\n",
       "      <th>5</th>\n",
       "      <td>15</td>\n",
       "      <td>{'svr__C': 1, 'svr__gamma': 1.0, 'svr__kernel'...</td>\n",
       "      <td>-2444.603</td>\n",
       "      <td>1.413</td>\n",
       "    </tr>\n",
       "    <tr>\n",
       "      <th>14</th>\n",
       "      <td>16</td>\n",
       "      <td>{'svr__C': 10, 'svr__gamma': 1.0, 'svr__kernel...</td>\n",
       "      <td>-25341.029</td>\n",
       "      <td>5.543</td>\n",
       "    </tr>\n",
       "    <tr>\n",
       "      <th>8</th>\n",
       "      <td>17</td>\n",
       "      <td>{'svr__C': 1, 'svr__gamma': 10, 'svr__kernel':...</td>\n",
       "      <td>-57840.430</td>\n",
       "      <td>31.546</td>\n",
       "    </tr>\n",
       "    <tr>\n",
       "      <th>17</th>\n",
       "      <td>17</td>\n",
       "      <td>{'svr__C': 10, 'svr__gamma': 10, 'svr__kernel'...</td>\n",
       "      <td>-57840.430</td>\n",
       "      <td>32.199</td>\n",
       "    </tr>\n",
       "  </tbody>\n",
       "</table>\n",
       "</div>"
      ],
      "text/plain": [
       "    rank_test_score                                             params  \\\n",
       "10                1  {'svr__C': 10, 'svr__gamma': 0.1, 'svr__kernel...   \n",
       "9                 2  {'svr__C': 10, 'svr__gamma': 0.1, 'svr__kernel...   \n",
       "12                2  {'svr__C': 10, 'svr__gamma': 1.0, 'svr__kernel...   \n",
       "15                2  {'svr__C': 10, 'svr__gamma': 10, 'svr__kernel'...   \n",
       "0                 5  {'svr__C': 1, 'svr__gamma': 0.1, 'svr__kernel'...   \n",
       "3                 5  {'svr__C': 1, 'svr__gamma': 1.0, 'svr__kernel'...   \n",
       "6                 5  {'svr__C': 1, 'svr__gamma': 10, 'svr__kernel':...   \n",
       "1                 8  {'svr__C': 1, 'svr__gamma': 0.1, 'svr__kernel'...   \n",
       "13                9  {'svr__C': 10, 'svr__gamma': 1.0, 'svr__kernel...   \n",
       "2                10  {'svr__C': 1, 'svr__gamma': 0.1, 'svr__kernel'...   \n",
       "4                11  {'svr__C': 1, 'svr__gamma': 1.0, 'svr__kernel'...   \n",
       "16               12  {'svr__C': 10, 'svr__gamma': 10, 'svr__kernel'...   \n",
       "7                13  {'svr__C': 1, 'svr__gamma': 10, 'svr__kernel':...   \n",
       "11               14  {'svr__C': 10, 'svr__gamma': 0.1, 'svr__kernel...   \n",
       "5                15  {'svr__C': 1, 'svr__gamma': 1.0, 'svr__kernel'...   \n",
       "14               16  {'svr__C': 10, 'svr__gamma': 1.0, 'svr__kernel...   \n",
       "8                17  {'svr__C': 1, 'svr__gamma': 10, 'svr__kernel':...   \n",
       "17               17  {'svr__C': 10, 'svr__gamma': 10, 'svr__kernel'...   \n",
       "\n",
       "    mean_test_score  mean_fit_time  \n",
       "10           81.489          0.011  \n",
       "9            72.319          0.030  \n",
       "12           72.319          0.028  \n",
       "15           72.319          0.028  \n",
       "0            72.279          0.009  \n",
       "3            72.279          0.009  \n",
       "6            72.279          0.009  \n",
       "1            62.795          0.007  \n",
       "13           52.947          0.010  \n",
       "2            20.186          0.008  \n",
       "4            17.528          0.006  \n",
       "16            5.792          0.011  \n",
       "7            -1.526          0.007  \n",
       "11         -535.446          0.018  \n",
       "5         -2444.603          1.413  \n",
       "14       -25341.029          5.543  \n",
       "8        -57840.430         31.546  \n",
       "17       -57840.430         32.199  "
      ]
     },
     "execution_count": 69,
     "metadata": {},
     "output_type": "execute_result"
    }
   ],
   "source": [
    "results = clf.cv_results_\n",
    "df = pd.DataFrame(results)\n",
    "\n",
    "df.mean_test_score = df.mean_test_score.round(5) * 100\n",
    "df.mean_fit_time = df.mean_fit_time.round(3)\n",
    "df.params.str.replace('svr__', '')\n",
    "\n",
    "df = df[[\n",
    "    'rank_test_score', 'params', 'mean_test_score', 'mean_fit_time'\n",
    "]]\n",
    "df.sort_values('rank_test_score',inplace=True)\n",
    "df"
   ]
  },
  {
   "cell_type": "code",
   "execution_count": 70,
   "metadata": {
    "colab": {
     "base_uri": "https://localhost:8080/"
    },
    "executionInfo": {
     "elapsed": 566,
     "status": "ok",
     "timestamp": 1650968647739,
     "user": {
      "displayName": "parand parand",
      "userId": "17014883922676788464"
     },
     "user_tz": 240
    },
    "id": "bTEkHYYGPVFl",
    "outputId": "d02664ba-2e07-442d-f93b-8e6c5261869a"
   },
   "outputs": [
    {
     "name": "stdout",
     "output_type": "stream",
     "text": [
      "total number of support vectors: 341\n"
     ]
    }
   ],
   "source": [
    "print('total number of support vectors:', clf.best_estimator_.steps[1][1].n_support_.sum())"
   ]
  },
  {
   "cell_type": "code",
   "execution_count": 71,
   "metadata": {
    "colab": {
     "base_uri": "https://localhost:8080/"
    },
    "executionInfo": {
     "elapsed": 598,
     "status": "ok",
     "timestamp": 1650968653484,
     "user": {
      "displayName": "parand parand",
      "userId": "17014883922676788464"
     },
     "user_tz": 240
    },
    "id": "ZgVP4AxcPJkO",
    "outputId": "8bae59b0-da84-40ba-9d7b-1160ff72fce6"
   },
   "outputs": [
    {
     "name": "stdout",
     "output_type": "stream",
     "text": [
      "Alphas: [[  8.69 -10.    10.   -10.    10.   -10.   -10.   -10.   -10.    10.\n",
      "   -1.46 -10.    10.    10.   -10.     6.91  10.   -10.     1.4  -10.\n",
      "    0.94 -10.   -10.   -10.    10.    10.    -1.06 -10.    -6.7  -10.\n",
      "    8.95  10.    -8.86  -8.03 -10.    10.    10.    10.   -10.   -10.\n",
      "  -10.     0.52  10.   -10.    -5.74 -10.    10.   -10.     4.6   10.\n",
      "    8.71  -3.19 -10.     3.19 -10.   -10.    10.   -10.   -10.    -8.44\n",
      "   -4.76 -10.   -10.    -6.4   10.   -10.    10.    10.     5.78  10.\n",
      "    2.84  10.    -4.01 -10.   -10.   -10.    -9.44 -10.     3.78  -1.65\n",
      "   10.    10.   -10.    10.    10.    10.    -9.65 -10.   -10.    10.\n",
      "   10.    -0.08  10.   -10.   -10.    -7.05   8.37   2.46 -10.    -1.79\n",
      "   10.   -10.     0.19 -10.    -9.28  10.    -3.74   7.64  -3.22 -10.\n",
      "   10.    10.     7.38 -10.    10.    10.    10.    10.     4.55 -10.\n",
      "  -10.    10.   -10.     8.23  10.   -10.    -4.01   6.24  10.    10.\n",
      "  -10.     2.2   10.    10.   -10.    10.    10.    -1.02  10.   -10.\n",
      "  -10.    10.    10.   -10.     4.07  -1.28  10.    -1.2    2.72  10.\n",
      "   10.    10.   -10.   -10.    10.    10.    10.    10.    -3.43 -10.\n",
      "   -7.48  10.    -4.88  10.   -10.    10.   -10.   -10.   -10.    10.\n",
      "   -5.81 -10.    10.   -10.   -10.    -5.77  10.   -10.   -10.    -2.7\n",
      "   10.    10.     4.43   2.27  -2.56 -10.    10.    -8.78   3.17  -5.06\n",
      "  -10.    10.    10.     1.37  -0.87 -10.    -0.53 -10.   -10.     9.51\n",
      "    2.13 -10.   -10.    10.   -10.     1.15   7.99 -10.   -10.   -10.\n",
      "    5.17 -10.   -10.   -10.    10.     0.7   10.   -10.   -10.    10.\n",
      "   10.   -10.    10.    10.   -10.    10.    10.    -2.55 -10.    10.\n",
      "   10.   -10.    10.    10.    -7.96 -10.    10.   -10.    10.     9.42\n",
      "    1.92  10.     0.14 -10.    10.   -10.     1.35  10.   -10.    10.\n",
      "   10.     8.53 -10.   -10.     2.78   8.61  10.    -3.52 -10.   -10.\n",
      "   10.     0.62  -8.4    3.01  10.    -1.98 -10.    10.    10.    10.\n",
      "   -1.49  10.    10.    -0.57  10.     3.29  -9.58  10.   -10.    10.\n",
      "   10.    10.   -10.   -10.    -7.46  10.    10.    10.     7.07  10.\n",
      "   -7.63 -10.    10.     3.17 -10.   -10.    10.   -10.    10.   -10.\n",
      "  -10.   -10.    10.   -10.   -10.     3.88  10.   -10.   -10.    10.\n",
      "    0.11   1.79   1.54 -10.    -7.82  10.    -5.29 -10.    -8.42   6.71\n",
      "   10.    -2.54  10.   -10.   -10.    10.   -10.   -10.   -10.    10.\n",
      "    5.73 -10.    10.    10.    10.    -2.81  10.    10.   -10.   -10.\n",
      "   10.  ]]\n"
     ]
    }
   ],
   "source": [
    "print('Alphas:', clf.best_estimator_.steps[1][1].dual_coef_.round(2))"
   ]
  }
 ],
 "metadata": {
  "colab": {
   "collapsed_sections": [],
   "name": "SVM-Simple boston.ipynb",
   "provenance": [
    {
     "file_id": "1SQTYX1QJA4d1G1LSYCMioKDV4vRUTkjW",
     "timestamp": 1650969082012
    }
   ]
  },
  "kernelspec": {
   "display_name": "Python 3 (ipykernel)",
   "language": "python",
   "name": "python3"
  },
  "language_info": {
   "codemirror_mode": {
    "name": "ipython",
    "version": 3
   },
   "file_extension": ".py",
   "mimetype": "text/x-python",
   "name": "python",
   "nbconvert_exporter": "python",
   "pygments_lexer": "ipython3",
   "version": "3.8.13"
  }
 },
 "nbformat": 4,
 "nbformat_minor": 4
}
